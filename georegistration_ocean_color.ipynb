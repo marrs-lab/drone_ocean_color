{
 "cells": [
  {
   "cell_type": "markdown",
   "metadata": {},
   "source": [
    "## Georegistering Images without Keypoints or GCPs"
   ]
  },
  {
   "cell_type": "markdown",
   "metadata": {},
   "source": [
    "This code attempts to georegister based entirely on IMU, GPS information. Assuming the lat, lon, altitude, yaw, pitch, and roll information is correct it warps and reprojects the image to how it would'be appeared on Earth.\n",
    "\n",
    "One major assumption is that the imagery is totally flat so this is most useful for ocean color images."
   ]
  },
  {
   "cell_type": "code",
   "execution_count": 1,
   "metadata": {},
   "outputs": [],
   "source": [
    "%load_ext autoreload\n",
    "%autoreload 2"
   ]
  },
  {
   "cell_type": "code",
   "execution_count": 17,
   "metadata": {},
   "outputs": [],
   "source": [
    "import geopandas as gpd\n",
    "import pandas as pd\n",
    "\n",
    "import os, glob, math, datetime\n",
    "import multiprocessing\n",
    "\n",
    "import cv2\n",
    "import numpy as np\n",
    "import matplotlib.pyplot as plt\n",
    "\n",
    "import exiftool\n",
    "\n",
    "import rasterio\n",
    "import micasense.image as image"
   ]
  },
  {
   "cell_type": "markdown",
   "metadata": {},
   "source": [
    "### Get all the metadata\n",
    "\n",
    "In this case I pull it from both the image metadata and from the aircraft flight logs"
   ]
  },
  {
   "cell_type": "markdown",
   "metadata": {},
   "source": [
    "Image we want to warp and georeg"
   ]
  },
  {
   "cell_type": "code",
   "execution_count": 275,
   "metadata": {},
   "outputs": [],
   "source": [
    "path_name = 'data/20210304_duml_newgimbal_mapping_testing/sea/IMG_0097_4.tif'"
   ]
  },
  {
   "cell_type": "markdown",
   "metadata": {},
   "source": [
    "Worth noting that this Micasense [notebook](https://github.com/micasense/imageprocessing/blob/e3744671c521056de46c3d05c3e9446a971662c9/MicaSense%20Image%20Processing%20Tutorial%203.ipynb) has this caveat about the sensor:\n",
    "        \n",
    ">An onboard orientation sensor provides a fairly rough version of the earth-fixed orientation of the DLS. The quality of this orientation varies based on the quality of the sensor installation and calibration, but in even the best cases it has a few degrees of error.\n",
    "\n",
    "Thus in this example I'm using the aircraft flight logs for orientation data in the actual final function."
   ]
  },
  {
   "cell_type": "code",
   "execution_count": 5,
   "metadata": {},
   "outputs": [
    {
     "data": {
      "text/plain": [
       "'data/20210304_duml_newgimbal_mapping_testing/sea/IMG_0097_4.tif'"
      ]
     },
     "execution_count": 5,
     "metadata": {},
     "output_type": "execute_result"
    }
   ],
   "source": [
    "path_name"
   ]
  },
  {
   "attachments": {
    "image.png": {
     "image/png": "[encoded data removed]"
    }
   },
   "cell_type": "markdown",
   "metadata": {},
   "source": [
    "![https://upload.wikimedia.org/wikipedia/commons/thumb/c/c1/Yaw_Axis_Corrected.svg/250px-Yaw_Axis_Corrected.svg.png](attachment:image.png)"
   ]
  },
  {
   "cell_type": "code",
   "execution_count": 11,
   "metadata": {},
   "outputs": [],
   "source": [
    "sensor_offset = 40 # this is the difference of the sensor and the DLS on our aircraft"
   ]
  },
  {
   "cell_type": "markdown",
   "metadata": {},
   "source": [
    "### Define the cameras parameters\n",
    "\n",
    "These can either come from a spec document and be manually updated or pulled from the sensor class as in this case with Micasense"
   ]
  },
  {
   "cell_type": "code",
   "execution_count": 26,
   "metadata": {},
   "outputs": [
    {
     "data": {
      "text/plain": [
       "(7.821876914999999, (7.12080001139328, 5.32680000852288), (2064, 1544))"
      ]
     },
     "execution_count": 26,
     "metadata": {},
     "output_type": "execute_result"
    }
   ],
   "source": [
    "# intrinsic camera parameters\n",
    "f = img.focal_length # returns focal length in mm\n",
    "# dividing the pixel size by the focal plane resolution in mm to get sensor size - px/(px/mm) leaves mm\n",
    "sensor_size = img.size()[0] / img.focal_plane_resolution_px_per_mm[0], img.size()[1] / img.focal_plane_resolution_px_per_mm[1]    # in mm\n",
    "image_size = img.size()    # in px\n",
    "\n",
    "f, sensor_size, image_size"
   ]
  },
  {
   "cell_type": "markdown",
   "metadata": {},
   "source": [
    "### Define the location and pose information"
   ]
  },
  {
   "cell_type": "markdown",
   "metadata": {},
   "source": [
    "If using the data from the Micasense images you can use:"
   ]
  },
  {
   "cell_type": "code",
   "execution_count": 280,
   "metadata": {},
   "outputs": [
    {
     "data": {
      "text/plain": [
       "(-59.682464952096794,\n",
       " -3.388516593867085,\n",
       " 9.36181782005857,\n",
       " 46.298,\n",
       " 34.7155427,\n",
       " -76.672801)"
      ]
     },
     "execution_count": 280,
     "metadata": {},
     "output_type": "execute_result"
    }
   ],
   "source": [
    "img = image.Image(path_name)\n",
    "\n",
    "# this fcn returns (yaw,pitch,roll) tuples in radians of the earth-fixed dls pose\n",
    "yaw, pitch, roll = np.array([img.dls_yaw, img.dls_pitch, img.dls_roll]) * 180/math.pi # convert this to degrees for cameratransform\n",
    "alt, lat, lon = img.altitude, img.latitude, img.longitude\n",
    "\n",
    "yaw, pitch, roll, alt, lat, lon "
   ]
  },
  {
   "cell_type": "markdown",
   "metadata": {},
   "source": [
    "The location information from the Alta is much better for both GPS and yaw than the Micasense Altum. We also use a gimbal to keep the pitch and roll stable so those are static values."
   ]
  },
  {
   "cell_type": "code",
   "execution_count": 224,
   "metadata": {},
   "outputs": [
    {
     "name": "stdout",
     "output_type": "stream",
     "text": [
      "41994 rows\n"
     ]
    },
    {
     "name": "stderr",
     "output_type": "stream",
     "text": [
      "/home/clifgray/anaconda3/envs/micasense_ocean_color/lib/python3.7/site-packages/IPython/core/interactiveshell.py:3156: DtypeWarning: Columns (0,1,2,4,5,6,7,9) have mixed types.Specify dtype option on import or set low_memory=False.\n",
      "  interactivity=interactivity, compiler=compiler, result=result)\n"
     ]
    },
    {
     "data": {
      "text/html": [
       "<div>\n",
       "<style scoped>\n",
       "    .dataframe tbody tr th:only-of-type {\n",
       "        vertical-align: middle;\n",
       "    }\n",
       "\n",
       "    .dataframe tbody tr th {\n",
       "        vertical-align: top;\n",
       "    }\n",
       "\n",
       "    .dataframe thead th {\n",
       "        text-align: right;\n",
       "    }\n",
       "</style>\n",
       "<table border=\"1\" class=\"dataframe\">\n",
       "  <thead>\n",
       "    <tr style=\"text-align: right;\">\n",
       "      <th></th>\n",
       "      <th>Reading</th>\n",
       "      <th>IMU Time</th>\n",
       "      <th>Date</th>\n",
       "      <th>GPS Time</th>\n",
       "      <th>Unnamed: 4</th>\n",
       "      <th>Longitude</th>\n",
       "      <th>Latitude</th>\n",
       "      <th>GPS Height</th>\n",
       "      <th>GPS Course</th>\n",
       "      <th>GPS Pos N</th>\n",
       "      <th>...</th>\n",
       "      <th>Gyro Bias R</th>\n",
       "      <th>Gyro Bias P</th>\n",
       "      <th>Gyro Bias Y</th>\n",
       "      <th>Accel Bias X</th>\n",
       "      <th>Accel Bias Y</th>\n",
       "      <th>Accel Bias Z</th>\n",
       "      <th>Extended Status</th>\n",
       "      <th>5V Alarm</th>\n",
       "      <th>Z Vibration</th>\n",
       "      <th>Checksum</th>\n",
       "    </tr>\n",
       "  </thead>\n",
       "  <tbody>\n",
       "    <tr>\n",
       "      <th>0</th>\n",
       "      <td>26</td>\n",
       "      <td>0.976</td>\n",
       "      <td>20210304</td>\n",
       "      <td>16:17:34</td>\n",
       "      <td>NaN</td>\n",
       "      <td>-766727168</td>\n",
       "      <td>347156224</td>\n",
       "      <td>-0.3</td>\n",
       "      <td>22.8</td>\n",
       "      <td>-1.26</td>\n",
       "      <td>...</td>\n",
       "      <td>11.3907</td>\n",
       "      <td>-33.8277</td>\n",
       "      <td>6.4131</td>\n",
       "      <td>0.0</td>\n",
       "      <td>0.0</td>\n",
       "      <td>0.246</td>\n",
       "      <td>0.0</td>\n",
       "      <td>0.0</td>\n",
       "      <td>0.03</td>\n",
       "      <td>54.0</td>\n",
       "    </tr>\n",
       "    <tr>\n",
       "      <th>1</th>\n",
       "      <td>28</td>\n",
       "      <td>1.056</td>\n",
       "      <td>20210304</td>\n",
       "      <td>16:17:34</td>\n",
       "      <td>NaN</td>\n",
       "      <td>-766727168</td>\n",
       "      <td>347156224</td>\n",
       "      <td>-0.3</td>\n",
       "      <td>22.8</td>\n",
       "      <td>-1.26</td>\n",
       "      <td>...</td>\n",
       "      <td>11.3907</td>\n",
       "      <td>-33.8290</td>\n",
       "      <td>6.4075</td>\n",
       "      <td>0.0</td>\n",
       "      <td>0.0</td>\n",
       "      <td>0.246</td>\n",
       "      <td>0.0</td>\n",
       "      <td>0.0</td>\n",
       "      <td>0.03</td>\n",
       "      <td>249.0</td>\n",
       "    </tr>\n",
       "    <tr>\n",
       "      <th>2</th>\n",
       "      <td>29</td>\n",
       "      <td>1.096</td>\n",
       "      <td>20210304</td>\n",
       "      <td>16:17:34</td>\n",
       "      <td>NaN</td>\n",
       "      <td>-766727168</td>\n",
       "      <td>347156224</td>\n",
       "      <td>-0.3</td>\n",
       "      <td>22.8</td>\n",
       "      <td>-1.26</td>\n",
       "      <td>...</td>\n",
       "      <td>11.3901</td>\n",
       "      <td>-33.8293</td>\n",
       "      <td>6.4075</td>\n",
       "      <td>-0.0</td>\n",
       "      <td>-0.0</td>\n",
       "      <td>0.246</td>\n",
       "      <td>0.0</td>\n",
       "      <td>0.0</td>\n",
       "      <td>0.03</td>\n",
       "      <td>28.0</td>\n",
       "    </tr>\n",
       "    <tr>\n",
       "      <th>3</th>\n",
       "      <td>30</td>\n",
       "      <td>1.136</td>\n",
       "      <td>20210304</td>\n",
       "      <td>16:17:34</td>\n",
       "      <td>NaN</td>\n",
       "      <td>-766727168</td>\n",
       "      <td>347156224</td>\n",
       "      <td>-0.3</td>\n",
       "      <td>22.8</td>\n",
       "      <td>-1.26</td>\n",
       "      <td>...</td>\n",
       "      <td>11.3899</td>\n",
       "      <td>-33.8297</td>\n",
       "      <td>6.4073</td>\n",
       "      <td>-0.0</td>\n",
       "      <td>-0.0</td>\n",
       "      <td>0.246</td>\n",
       "      <td>0.0</td>\n",
       "      <td>0.0</td>\n",
       "      <td>0.03</td>\n",
       "      <td>107.0</td>\n",
       "    </tr>\n",
       "    <tr>\n",
       "      <th>4</th>\n",
       "      <td>31</td>\n",
       "      <td>1.176</td>\n",
       "      <td>20210304</td>\n",
       "      <td>16:17:35</td>\n",
       "      <td>NaN</td>\n",
       "      <td>-766727168</td>\n",
       "      <td>347156256</td>\n",
       "      <td>-0.3</td>\n",
       "      <td>22.8</td>\n",
       "      <td>-1.25</td>\n",
       "      <td>...</td>\n",
       "      <td>11.3899</td>\n",
       "      <td>-33.8309</td>\n",
       "      <td>6.4074</td>\n",
       "      <td>-0.0</td>\n",
       "      <td>-0.0</td>\n",
       "      <td>0.246</td>\n",
       "      <td>0.0</td>\n",
       "      <td>0.0</td>\n",
       "      <td>0.03</td>\n",
       "      <td>252.0</td>\n",
       "    </tr>\n",
       "  </tbody>\n",
       "</table>\n",
       "<p>5 rows × 173 columns</p>\n",
       "</div>"
      ],
      "text/plain": [
       "  Reading IMU Time      Date  GPS Time Unnamed: 4   Longitude   Latitude  \\\n",
       "0      26    0.976  20210304  16:17:34        NaN  -766727168  347156224   \n",
       "1      28    1.056  20210304  16:17:34        NaN  -766727168  347156224   \n",
       "2      29    1.096  20210304  16:17:34        NaN  -766727168  347156224   \n",
       "3      30    1.136  20210304  16:17:34        NaN  -766727168  347156224   \n",
       "4      31    1.176  20210304  16:17:35        NaN  -766727168  347156256   \n",
       "\n",
       "  GPS Height  GPS Course GPS Pos N  ...  Gyro Bias R  Gyro Bias P  \\\n",
       "0       -0.3        22.8     -1.26  ...      11.3907     -33.8277   \n",
       "1       -0.3        22.8     -1.26  ...      11.3907     -33.8290   \n",
       "2       -0.3        22.8     -1.26  ...      11.3901     -33.8293   \n",
       "3       -0.3        22.8     -1.26  ...      11.3899     -33.8297   \n",
       "4       -0.3        22.8     -1.25  ...      11.3899     -33.8309   \n",
       "\n",
       "   Gyro Bias Y  Accel Bias X  Accel Bias Y  Accel Bias Z  Extended Status  \\\n",
       "0       6.4131           0.0           0.0         0.246              0.0   \n",
       "1       6.4075           0.0           0.0         0.246              0.0   \n",
       "2       6.4075          -0.0          -0.0         0.246              0.0   \n",
       "3       6.4073          -0.0          -0.0         0.246              0.0   \n",
       "4       6.4074          -0.0          -0.0         0.246              0.0   \n",
       "\n",
       "   5V Alarm  Z Vibration  Checksum  \n",
       "0       0.0         0.03      54.0  \n",
       "1       0.0         0.03     249.0  \n",
       "2       0.0         0.03      28.0  \n",
       "3       0.0         0.03     107.0  \n",
       "4       0.0         0.03     252.0  \n",
       "\n",
       "[5 rows x 173 columns]"
      ]
     },
     "execution_count": 224,
     "metadata": {},
     "output_type": "execute_result"
    }
   ],
   "source": [
    "alta_logs = pd.read_csv('data/20210304_duml_newgimbal_mapping_testing/SYNLog-16-17-34_04-03-2021_edit.csv')\n",
    "print(len(alta_logs), 'rows')\n",
    "alta_logs.head()"
   ]
  },
  {
   "cell_type": "markdown",
   "metadata": {},
   "source": [
    "The last few hundred rows are summary data and don't follow the format for the csv"
   ]
  },
  {
   "cell_type": "code",
   "execution_count": 225,
   "metadata": {},
   "outputs": [],
   "source": [
    "alta_logs.drop(alta_logs.tail(250).index,inplace=True)"
   ]
  },
  {
   "cell_type": "markdown",
   "metadata": {},
   "source": [
    "#### Create a datetime column, then make it the index, and then find the closest row to the image time"
   ]
  },
  {
   "cell_type": "markdown",
   "metadata": {},
   "source": [
    "This one may introduce a tiny bit of error, it creates a DateTime index but it isn't precise enough so I add on the ID field as milliseconds to ensure they're in the correct order"
   ]
  },
  {
   "cell_type": "code",
   "execution_count": 229,
   "metadata": {},
   "outputs": [],
   "source": [
    "alta_logs['id'] = alta_logs.index"
   ]
  },
  {
   "cell_type": "code",
   "execution_count": 233,
   "metadata": {},
   "outputs": [],
   "source": [
    "alta_logs['dt'] = pd.to_datetime(alta_logs.Date.apply(str)+alta_logs['GPS Time']+'.'+alta_logs.id.apply(str).str.zfill(9).apply(str).str.slice(start=3,stop=9), format='%Y%m%d%H:%M:%S.%f')"
   ]
  },
  {
   "cell_type": "code",
   "execution_count": 234,
   "metadata": {},
   "outputs": [],
   "source": [
    "alta_logs = alta_logs.set_index('dt')"
   ]
  },
  {
   "cell_type": "code",
   "execution_count": 281,
   "metadata": {},
   "outputs": [
    {
     "data": {
      "text/html": [
       "<div>\n",
       "<style scoped>\n",
       "    .dataframe tbody tr th:only-of-type {\n",
       "        vertical-align: middle;\n",
       "    }\n",
       "\n",
       "    .dataframe tbody tr th {\n",
       "        vertical-align: top;\n",
       "    }\n",
       "\n",
       "    .dataframe thead th {\n",
       "        text-align: right;\n",
       "    }\n",
       "</style>\n",
       "<table border=\"1\" class=\"dataframe\">\n",
       "  <thead>\n",
       "    <tr style=\"text-align: right;\">\n",
       "      <th></th>\n",
       "      <th>Reading</th>\n",
       "      <th>IMU Time</th>\n",
       "      <th>Date</th>\n",
       "      <th>GPS Time</th>\n",
       "      <th>Unnamed: 4</th>\n",
       "      <th>Longitude</th>\n",
       "      <th>Latitude</th>\n",
       "      <th>GPS Height</th>\n",
       "      <th>GPS Course</th>\n",
       "      <th>GPS Pos N</th>\n",
       "      <th>...</th>\n",
       "      <th>Gyro Bias P</th>\n",
       "      <th>Gyro Bias Y</th>\n",
       "      <th>Accel Bias X</th>\n",
       "      <th>Accel Bias Y</th>\n",
       "      <th>Accel Bias Z</th>\n",
       "      <th>Extended Status</th>\n",
       "      <th>5V Alarm</th>\n",
       "      <th>Z Vibration</th>\n",
       "      <th>Checksum</th>\n",
       "      <th>id</th>\n",
       "    </tr>\n",
       "    <tr>\n",
       "      <th>dt</th>\n",
       "      <th></th>\n",
       "      <th></th>\n",
       "      <th></th>\n",
       "      <th></th>\n",
       "      <th></th>\n",
       "      <th></th>\n",
       "      <th></th>\n",
       "      <th></th>\n",
       "      <th></th>\n",
       "      <th></th>\n",
       "      <th></th>\n",
       "      <th></th>\n",
       "      <th></th>\n",
       "      <th></th>\n",
       "      <th></th>\n",
       "      <th></th>\n",
       "      <th></th>\n",
       "      <th></th>\n",
       "      <th></th>\n",
       "      <th></th>\n",
       "      <th></th>\n",
       "    </tr>\n",
       "  </thead>\n",
       "  <tbody>\n",
       "    <tr>\n",
       "      <th>2021-03-04 16:17:34</th>\n",
       "      <td>26</td>\n",
       "      <td>0.976</td>\n",
       "      <td>20210304</td>\n",
       "      <td>16:17:34</td>\n",
       "      <td>NaN</td>\n",
       "      <td>-766727168</td>\n",
       "      <td>347156224</td>\n",
       "      <td>-0.3</td>\n",
       "      <td>22.8</td>\n",
       "      <td>-1.26</td>\n",
       "      <td>...</td>\n",
       "      <td>-33.8277</td>\n",
       "      <td>6.4131</td>\n",
       "      <td>0.0</td>\n",
       "      <td>0.0</td>\n",
       "      <td>0.246</td>\n",
       "      <td>0.0</td>\n",
       "      <td>0.0</td>\n",
       "      <td>0.03</td>\n",
       "      <td>54.0</td>\n",
       "      <td>0</td>\n",
       "    </tr>\n",
       "  </tbody>\n",
       "</table>\n",
       "<p>1 rows × 174 columns</p>\n",
       "</div>"
      ],
      "text/plain": [
       "                    Reading IMU Time      Date  GPS Time Unnamed: 4  \\\n",
       "dt                                                                    \n",
       "2021-03-04 16:17:34      26    0.976  20210304  16:17:34        NaN   \n",
       "\n",
       "                      Longitude   Latitude GPS Height  GPS Course GPS Pos N  \\\n",
       "dt                                                                            \n",
       "2021-03-04 16:17:34  -766727168  347156224       -0.3        22.8     -1.26   \n",
       "\n",
       "                     ...  Gyro Bias P  Gyro Bias Y  Accel Bias X  \\\n",
       "dt                   ...                                           \n",
       "2021-03-04 16:17:34  ...     -33.8277       6.4131           0.0   \n",
       "\n",
       "                     Accel Bias Y  Accel Bias Z  Extended Status  5V Alarm  \\\n",
       "dt                                                                           \n",
       "2021-03-04 16:17:34           0.0         0.246              0.0       0.0   \n",
       "\n",
       "                     Z Vibration  Checksum  id  \n",
       "dt                                              \n",
       "2021-03-04 16:17:34         0.03      54.0   0  \n",
       "\n",
       "[1 rows x 174 columns]"
      ]
     },
     "execution_count": 281,
     "metadata": {},
     "output_type": "execute_result"
    }
   ],
   "source": [
    "alta_logs.head(1)"
   ]
  },
  {
   "cell_type": "markdown",
   "metadata": {},
   "source": [
    "Now find the closest entry"
   ]
  },
  {
   "cell_type": "code",
   "execution_count": 285,
   "metadata": {},
   "outputs": [],
   "source": [
    "img_idx = alta_logs.index.get_loc(img.utc_time, method='nearest')"
   ]
  },
  {
   "cell_type": "code",
   "execution_count": 286,
   "metadata": {},
   "outputs": [],
   "source": [
    "lat = float(str(alta_logs.iloc[img_idx]['Latitude'])[:2] + '.' + str(alta_logs.iloc[img_idx]['Latitude'])[2:])\n",
    "lon = float(str(alta_logs.iloc[img_idx]['Latitude'])[:2] + '.' + str(alta_logs.iloc[img_idx]['Latitude'])[2:])\n",
    "alt = alta_logs.iloc[img_idx]['GPS Height']\n",
    "yaw = alta_logs.iloc[img_idx]['Yaw']"
   ]
  },
  {
   "cell_type": "markdown",
   "metadata": {},
   "source": [
    "### Now create the camera transform"
   ]
  },
  {
   "cell_type": "code",
   "execution_count": 287,
   "metadata": {},
   "outputs": [],
   "source": [
    "import cameratransform as ct\n",
    "\n",
    "cam = ct.Camera(ct.RectilinearProjection(focallength_mm=f,\n",
    "                                         sensor=sensor_size,\n",
    "                                         image=image_size),\n",
    "               ct.SpatialOrientation(elevation_m=alt, # img.altitude,\n",
    "                                     tilt_deg=40,\n",
    "                                     roll_deg=0,\n",
    "                                    heading_deg=yaw,\n",
    "                                    pos_x_m=0, pos_y_m=0))\n",
    "\n",
    "# gps pts are lat lon\n",
    "cam.setGPSpos(lat, lon, alt)"
   ]
  },
  {
   "cell_type": "markdown",
   "metadata": {},
   "source": [
    "Convert from space to top down image pixel location"
   ]
  },
  {
   "cell_type": "code",
   "execution_count": 258,
   "metadata": {},
   "outputs": [],
   "source": [
    "# space location / scaling factor - half the image\n",
    "\n",
    "def spacetotopdown(top_im, cam, image_size, scaling):\n",
    "    x1 = top_im.shape[0]/2 + cam.spaceFromImage([0,0])[0] / scaling\n",
    "    y1 = top_im.shape[1]/2 - cam.spaceFromImage([0,0])[1] / scaling\n",
    "    \n",
    "    x2 = top_im.shape[0]/2 + cam.spaceFromImage([image_size[0]-1,0])[0] / scaling\n",
    "    y2 = top_im.shape[1]/2 - cam.spaceFromImage([image_size[0]-1,0])[1] / scaling\n",
    "    \n",
    "    x3 = top_im.shape[0]/2 + cam.spaceFromImage([image_size[0]-1,image_size[1]-1])[0] / scaling\n",
    "    y3 = top_im.shape[1]/2 - cam.spaceFromImage([image_size[0]-1,image_size[1]-1])[1] / scaling\n",
    "    \n",
    "    x4 = top_im.shape[0]/2 + cam.spaceFromImage([0,image_size[1]-1])[0] / scaling\n",
    "    y4 = top_im.shape[1]/2 - cam.spaceFromImage([0,image_size[1]-1])[1] / scaling\n",
    "    return(np.array([[x1,y1], [x2,y2], [x3,y3], [x4,y4]]))\n",
    "    #return([x1,x2,x3,x4],[y1, y2, y3,y4])"
   ]
  },
  {
   "cell_type": "markdown",
   "metadata": {},
   "source": [
    "Inspect this image"
   ]
  },
  {
   "cell_type": "code",
   "execution_count": 290,
   "metadata": {},
   "outputs": [
    {
     "data": {
      "text/plain": [
       "<matplotlib.collections.PathCollection at 0x7f09b9744590>"
      ]
     },
     "execution_count": 290,
     "metadata": {},
     "output_type": "execute_result"
    },
    {
     "data": {
      "image/png": "[encoded data removed]",
      "text/plain": [
       "<Figure size 648x648 with 1 Axes>"
      ]
     },
     "metadata": {
      "needs_background": "light"
     },
     "output_type": "display_data"
    }
   ],
   "source": [
    "fig,ax = plt.subplots(figsize=(9,9))\n",
    "scaling = .2\n",
    "im = plt.imread(path_name)\n",
    "# this 120 value is approximate and based on altitude, FOV, and viewing geometry\n",
    "top_im = cam.getTopViewOfImage(im, [-120, 120,-120, 120], scaling=scaling, do_plot=False)\n",
    "\n",
    "# Now get the image coordinates of the corners of the original image but in the top down image\n",
    "image_coords = spacetotopdown(top_im, cam, image_size, scaling)\n",
    "\n",
    "# show this image\n",
    "ax.imshow(top_im, interpolation='none', vmin=0, vmax=65000)\n",
    "# ax.set_xlabel(\"x position in m\")\n",
    "# ax.set_ylabel(\"y position in m\");\n",
    "ax.scatter(image_coords[:,0],image_coords[:,1])"
   ]
  },
  {
   "cell_type": "markdown",
   "metadata": {},
   "source": [
    "Use the cameratransform package to get the geographic coordinates of the image"
   ]
  },
  {
   "cell_type": "code",
   "execution_count": 263,
   "metadata": {},
   "outputs": [],
   "source": [
    "coords = np.array([\n",
    "    cam.gpsFromImage([0               , 0]), \\\n",
    "    cam.gpsFromImage([image_size[0]-1 , 0]), \\\n",
    "    cam.gpsFromImage([image_size[0]-1 , image_size[1]-1]), \\\n",
    "    cam.gpsFromImage([0               , image_size[1]-1])])"
   ]
  },
  {
   "cell_type": "markdown",
   "metadata": {},
   "source": [
    "Convert all that to GCPs for `rasterio`"
   ]
  },
  {
   "cell_type": "code",
   "execution_count": 291,
   "metadata": {},
   "outputs": [],
   "source": [
    "gcp1 = rasterio.control.GroundControlPoint(row=image_coords[0,0], col=image_coords[0,1], x=coords[0,1], y=coords[0,0], z=coords[0,2], id=None, info=None)\n",
    "gcp2 = rasterio.control.GroundControlPoint(row=image_coords[1,0], col=image_coords[1,1], x=coords[1,1], y=coords[1,0], z=coords[1,2], id=None, info=None)\n",
    "gcp3 = rasterio.control.GroundControlPoint(row=image_coords[2,0], col=image_coords[2,1], x=coords[2,1], y=coords[2,0], z=coords[2,2], id=None, info=None)\n",
    "gcp4 = rasterio.control.GroundControlPoint(row=image_coords[3,0], col=image_coords[3,1], x=coords[3,1], y=coords[3,0], z=coords[3,2], id=None, info=None)"
   ]
  },
  {
   "cell_type": "code",
   "execution_count": 292,
   "metadata": {},
   "outputs": [
    {
     "data": {
      "text/plain": [
       "[GroundControlPoint(row=162.92674802728203, col=686.0333234349586, x=34.71458922358496, y=34.71539085418051, z=-7.105427357601002e-15, id='2bd204e2-402c-49b7-ada0-1c6aa4f9a785'),\n",
       " GroundControlPoint(row=270.65852550639073, col=300.18145470675915, x=34.714824949489824, y=34.71608486039159, z=-7.105427357601002e-15, id='e51bc71e-f316-4613-8db9-1c4f84d4cea1'),\n",
       " GroundControlPoint(row=539.8357060555867, col=467.6893147685623, x=34.71541395162127, y=34.71578357784536, z=0.0, id='f80e55d9-eb87-4707-b886-1adaafcb7f89'),\n",
       " GroundControlPoint(row=479.9680849532999, col=682.1110389725345, x=34.7152829536315, y=34.715397912372204, z=0.0, id='b291c776-62e3-4059-a1f6-56d0869f72bb')]"
      ]
     },
     "execution_count": 292,
     "metadata": {},
     "output_type": "execute_result"
    }
   ],
   "source": [
    "[gcp1,gcp2,gcp3,gcp4]"
   ]
  },
  {
   "cell_type": "markdown",
   "metadata": {},
   "source": [
    "Use those GCPs to georeference the image"
   ]
  },
  {
   "cell_type": "code",
   "execution_count": 300,
   "metadata": {},
   "outputs": [
    {
     "name": "stdout",
     "output_type": "stream",
     "text": [
      "initial profile\n",
      "{'driver': 'GTiff', 'dtype': 'uint16', 'nodata': None, 'width': 2064, 'height': 1544, 'count': 1, 'crs': None, 'transform': Affine(1.0, 0.0, 0.0,\n",
      "       0.0, 1.0, 0.0), 'tiled': False, 'interleave': 'band'}\n",
      "updated profile\n",
      "{'driver': 'GTiff', 'dtype': 'float32', 'nodata': None, 'width': 1200, 'height': 1200, 'count': 1, 'crs': 'EPSG:4326', 'transform': Affine(1.4111421741988557e-11, 2.18814287050064e-06, 34.71423270631643,\n",
      "       -1.7986303593870601e-06, 9.600663048236924e-12, 34.71662477312512), 'tiled': False, 'interleave': 'band'}\n",
      "IMG_0097_4_georeferenced.tif\n"
     ]
    }
   ],
   "source": [
    "import rasterio\n",
    "from rasterio.warp import reproject\n",
    "from rasterio.enums import Resampling\n",
    "\n",
    "# Register GDAL format drivers and configuration options with a\n",
    "# context manager.\n",
    "with rasterio.Env():\n",
    "    \n",
    "    # open the original image to get some of the basic metadata\n",
    "    with rasterio.open(path_name, 'r') as src:\n",
    "        profile = src.profile\n",
    "        print('initial profile')\n",
    "        print(profile)\n",
    "                \n",
    "        src_crs = \"EPSG:4326\"  # This is the crs of the GCPs\n",
    "        dst_crs = \"EPSG:4326\"\n",
    "\n",
    "        tsfm = rasterio.transform.from_gcps([gcp1,gcp2,gcp3,gcp4])\n",
    "        profile.update(\n",
    "            dtype=rasterio.float32,\n",
    "            transform = tsfm,\n",
    "            crs=dst_crs,\n",
    "            width=top_im.shape[0], # TODO unsure if this is correct order\n",
    "            height=top_im.shape[1]\n",
    "        )\n",
    "        \n",
    "        print('updated profile')\n",
    "        print(profile)\n",
    "        new_fn = path_name.split('/')[-1].split('.')[0]+'_georeferenced.tif'\n",
    "        print(new_fn)\n",
    "        with rasterio.open(new_fn, 'w', **profile) as dst:\n",
    "            # we then need to transpose it because it gets flipped compared to expected output\n",
    "            dst.write(top_im.T.astype(rasterio.float32), 1)"
   ]
  },
  {
   "cell_type": "code",
   "execution_count": null,
   "metadata": {},
   "outputs": [],
   "source": [
    "rasterio.float32"
   ]
  },
  {
   "cell_type": "code",
   "execution_count": 302,
   "metadata": {},
   "outputs": [
    {
     "name": "stdout",
     "output_type": "stream",
     "text": [
      "[[0. 0. 0. ... 0. 0. 0.]\n",
      " [0. 0. 0. ... 0. 0. 0.]\n",
      " [0. 0. 0. ... 0. 0. 0.]\n",
      " ...\n",
      " [0. 0. 0. ... 0. 0. 0.]\n",
      " [0. 0. 0. ... 0. 0. 0.]\n",
      " [0. 0. 0. ... 0. 0. 0.]]\n",
      "{'driver': 'GTiff', 'dtype': 'float32', 'nodata': None, 'width': 1200, 'height': 1200, 'count': 1, 'crs': CRS.from_epsg(4326), 'transform': Affine(1.4111421741988557e-11, 2.18814287050064e-06, 34.71423270631643,\n",
      "       -1.7986303593870601e-06, 9.600663048236924e-12, 34.71662477312512)}\n"
     ]
    },
    {
     "data": {
      "image/png": "[encoded data removed]",
      "text/plain": [
       "<Figure size 432x288 with 1 Axes>"
      ]
     },
     "metadata": {
      "needs_background": "light"
     },
     "output_type": "display_data"
    }
   ],
   "source": [
    "with rasterio.open('IMG_0097_4_georeferenced.tif') as source:\n",
    "    print(source.read(1))\n",
    "    plt.imshow(source.read(1), vmin=0, vmax=65000)\n",
    "    print(source.meta)"
   ]
  },
  {
   "cell_type": "markdown",
   "metadata": {},
   "source": [
    "### Now actual operational functions for this"
   ]
  },
  {
   "cell_type": "code",
   "execution_count": 377,
   "metadata": {},
   "outputs": [],
   "source": [
    "def georegister_drone_imgs(path_name, lat, lon, alt, yaw, roll, pitch, focal_length, \n",
    "                           sensor_size, image_size, scaling=0.2, top_im_size=120, visualize=True):\n",
    "    cam = ct.Camera(\n",
    "        ct.RectilinearProjection(focallength_mm=focal_length,\n",
    "                sensor=sensor_size,\n",
    "                image=image_size),\n",
    "            ct.SpatialOrientation(elevation_m=alt, # img.altitude,\n",
    "                    tilt_deg=pitch,\n",
    "                    roll_deg=roll,\n",
    "                    heading_deg=yaw,\n",
    "                    pos_x_m=0, pos_y_m=0)\n",
    "    )\n",
    "\n",
    "    # gps pts are lat lon\n",
    "    cam.setGPSpos(lat, lon, alt)\n",
    "    \n",
    "    im = plt.imread(path_name)\n",
    "    # this value is approximate and based on altitude, FOV, and viewing geometry\n",
    "    top_im = cam.getTopViewOfImage(im, [-top_im_size, top_im_size,-top_im_size, top_im_size], scaling=scaling, do_plot=False)\n",
    "    image_coords = spacetotopdown(top_im, cam, image_size, scaling)\n",
    "    \n",
    "    if visualize:\n",
    "        fig,ax = plt.subplots(figsize=(9,9))\n",
    "        ax.imshow(top_im, interpolation='none', vmin=0, vmax=65000)\n",
    "        # ax.set_xlabel(\"x position in m\")\n",
    "        # ax.set_ylabel(\"y position in m\");\n",
    "        ax.scatter(image_coords[:,0],image_coords[:,1])\n",
    "        fig.show()\n",
    "        \n",
    "    \n",
    "    coords = np.array([\n",
    "        cam.gpsFromImage([0               , 0]), \\\n",
    "        cam.gpsFromImage([image_size[0]-1 , 0]), \\\n",
    "        cam.gpsFromImage([image_size[0]-1 , image_size[1]-1]), \\\n",
    "        cam.gpsFromImage([0               , image_size[1]-1])]\n",
    "    )\n",
    "    \n",
    "    gcp1 = rasterio.control.GroundControlPoint(row=image_coords[0,0], col=image_coords[0,1], x=coords[0,1], y=coords[0,0], z=coords[0,2], id=None, info=None)\n",
    "    gcp2 = rasterio.control.GroundControlPoint(row=image_coords[1,0], col=image_coords[1,1], x=coords[1,1], y=coords[1,0], z=coords[1,2], id=None, info=None)\n",
    "    gcp3 = rasterio.control.GroundControlPoint(row=image_coords[2,0], col=image_coords[2,1], x=coords[2,1], y=coords[2,0], z=coords[2,2], id=None, info=None)\n",
    "    gcp4 = rasterio.control.GroundControlPoint(row=image_coords[3,0], col=image_coords[3,1], x=coords[3,1], y=coords[3,0], z=coords[3,2], id=None, info=None)\n",
    "    \n",
    "    \n",
    "    # Register GDAL format drivers and configuration options with a\n",
    "    # context manager.\n",
    "    with rasterio.Env():\n",
    "        # open the original image to get some of the basic metadata\n",
    "        with rasterio.open(path_name, 'r') as src:\n",
    "            profile = src.profile\n",
    "            print('initial profile')\n",
    "            print(profile)\n",
    "\n",
    "            src_crs = \"EPSG:4326\"  # This is the crs of the GCPs\n",
    "            dst_crs = \"EPSG:4326\"\n",
    "\n",
    "            tsfm = rasterio.transform.from_gcps([gcp1,gcp2,gcp3,gcp4])\n",
    "            profile.update(\n",
    "                dtype=rasterio.float32,\n",
    "                transform = tsfm,\n",
    "                crs=dst_crs,\n",
    "                width=top_im.shape[0], # TODO unsure if this is correct order\n",
    "                height=top_im.shape[1]\n",
    "            )\n",
    "\n",
    "            print('updated profile')\n",
    "            print(profile)\n",
    "            new_fn = path_name.split('/')[-1].split('.')[0]+'_georeferenced.tif'\n",
    "            with rasterio.open(new_fn, 'w', **profile) as dst:\n",
    "                # we then need to transpose it because it gets flipped compared to expected output\n",
    "                # TODO could and shout probably convert this back to an int\n",
    "                dst.write(top_im.T.astype(rasterio.float32), 1)\n",
    "                print('written out as ', new_fn)\n",
    "                \n",
    "    return(True)"
   ]
  },
  {
   "cell_type": "code",
   "execution_count": 378,
   "metadata": {},
   "outputs": [],
   "source": [
    "def format_alta_logs(fp):\n",
    "    alta_logs = pd.read_csv(fp)\n",
    "    # the last few hundred lines don't follow csv rules and are just summary data\n",
    "    alta_logs.drop(alta_logs.tail(250).index,inplace=True)\n",
    "    # this may introduce a tiny bit of error but I do this so I have a unique index for matching time\n",
    "    # TODO could instead resample to seconds and take a mean\n",
    "    alta_logs['id'] = alta_logs.index\n",
    "    alta_logs['dt'] = pd.to_datetime(alta_logs.Date.apply(str)+alta_logs['GPS Time']+'.'+alta_logs.id.apply(str).str.zfill(9).apply(str).str.slice(start=3,stop=9), format='%Y%m%d%H:%M:%S.%f')\n",
    "    alta_logs = alta_logs.set_index('dt')\n",
    "    return(alta_logs)\n"
   ]
  },
  {
   "cell_type": "code",
   "execution_count": 379,
   "metadata": {},
   "outputs": [],
   "source": [
    "# TODO change it to this\n",
    "# alta_micasense_georef(img_info_path_name, data_path_name, alta_logs, scaling=0.1, top_im_size=120):\n",
    "def alta_micasense_georef(path_name, alta_logs, scaling=0.1, top_im_size=120):\n",
    "    # open up the micasense camera object\n",
    "    img = image.Image(path_name)\n",
    "    \n",
    "    # define intrinsic camera parameters\n",
    "    f = img.focal_length # returns focal length in mm\n",
    "    # dividing the pixel size by the focal plane resolution in mm to get sensor size - px/(px/mm) leaves mm\n",
    "    sensor_size = img.size()[0] / img.focal_plane_resolution_px_per_mm[0], img.size()[1] / img.focal_plane_resolution_px_per_mm[1]    # in mm\n",
    "    image_size = img.size()    # in px    \n",
    "    \n",
    "    img_idx = alta_logs.index.get_loc(img.utc_time, method='nearest')\n",
    "    lat = float(str(alta_logs.iloc[img_idx]['Latitude'])[:2] + '.' + str(alta_logs.iloc[img_idx]['Latitude'])[2:])\n",
    "    # TODO this assumes it is always negative with :3. be better.\n",
    "    lon = float(str(alta_logs.iloc[img_idx]['Longitude'])[:3] + '.' + str(alta_logs.iloc[img_idx]['Longitude'])[3:])\n",
    "    alt = alta_logs.iloc[img_idx]['GPS Height']\n",
    "    yaw = alta_logs.iloc[img_idx]['Yaw']\n",
    "    roll = 0\n",
    "    pitch = 40+4 # TODO could pull this off the gimbal if it logged it\n",
    "    \n",
    "    print(lat, lon, alt, yaw, roll, pitch)\n",
    "    \n",
    "    if georegister_drone_imgs(path_name, lat, lon, alt, yaw, roll, pitch, f, \n",
    "                           sensor_size, image_size, scaling=scaling, top_im_size=top_im_size, visualize=True):\n",
    "        print('Complete!')"
   ]
  },
  {
   "cell_type": "markdown",
   "metadata": {},
   "source": [
    "In reality I'll need both the micasense filepath AND the chla data and that will both go into this function and the actual data written will be the chla data"
   ]
  },
  {
   "cell_type": "code",
   "execution_count": 380,
   "metadata": {},
   "outputs": [
    {
     "name": "stderr",
     "output_type": "stream",
     "text": [
      "/home/clifgray/anaconda3/envs/micasense_ocean_color/lib/python3.7/site-packages/IPython/core/interactiveshell.py:3347: DtypeWarning: Columns (0,1,2,4,5,6,7,9) have mixed types.Specify dtype option on import or set low_memory=False.\n",
      "  if (await self.run_code(code, result,  async_=asy)):\n",
      "/home/clifgray/anaconda3/envs/micasense_ocean_color/lib/python3.7/site-packages/IPython/core/interactiveshell.py:3427: FutureWarning: Indexing a timezone-naive DatetimeIndex with a timezone-aware datetime is deprecated and will raise KeyError in a future version.  Use a timezone-naive object instead.\n",
      "  exec(code_obj, self.user_global_ns, self.user_ns)\n"
     ]
    },
    {
     "name": "stdout",
     "output_type": "stream",
     "text": [
      "34.7155456 -76.6728128 48.18 -74.4 0 44\n",
      "initial profile\n",
      "{'driver': 'GTiff', 'dtype': 'uint16', 'nodata': None, 'width': 2064, 'height': 1544, 'count': 1, 'crs': None, 'transform': Affine(1.0, 0.0, 0.0,\n",
      "       0.0, 1.0, 0.0), 'tiled': False, 'interleave': 'band'}\n",
      "updated profile\n",
      "{'driver': 'GTiff', 'dtype': 'float32', 'nodata': None, 'width': 2400, 'height': 2400, 'count': 1, 'crs': 'EPSG:4326', 'transform': Affine(8.59464575060284e-12, 1.0940714799715657e-06, -76.67412569542374,\n",
      "       -8.99315303727289e-07, 5.716736570358628e-12, 34.71662477246828), 'tiled': False, 'interleave': 'band'}\n",
      "written out as  IMG_0097_1_georeferenced.tif\n",
      "Complete!\n"
     ]
    },
    {
     "name": "stderr",
     "output_type": "stream",
     "text": [
      "/home/clifgray/anaconda3/envs/micasense_ocean_color/lib/python3.7/site-packages/ipykernel_launcher.py:28: UserWarning: Matplotlib is currently using module://ipykernel.pylab.backend_inline, which is a non-GUI backend, so cannot show the figure.\n",
      "/home/clifgray/anaconda3/envs/micasense_ocean_color/lib/python3.7/site-packages/rasterio/__init__.py:218: NotGeoreferencedWarning: Dataset has no geotransform set. The identity matrix may be returned.\n",
      "  s = DatasetReader(path, driver=driver, sharing=sharing, **kwargs)\n"
     ]
    },
    {
     "data": {
      "image/png": "[encoded data removed]",
      "text/plain": [
       "<Figure size 648x648 with 1 Axes>"
      ]
     },
     "metadata": {
      "needs_background": "light"
     },
     "output_type": "display_data"
    }
   ],
   "source": [
    "alta_logs = format_alta_logs('data/20210304_duml_newgimbal_mapping_testing/SYNLog-16-17-34_04-03-2021_edit.csv')\n",
    "\n",
    "img_fp_list = ['data/20210304_duml_newgimbal_mapping_testing/sea/IMG_0097_1.tif']\n",
    "\n",
    "for image_fp in img_fp_list:\n",
    "    alta_micasense_georef(image_fp, alta_logs, scaling=0.1)"
   ]
  },
  {
   "cell_type": "code",
   "execution_count": null,
   "metadata": {},
   "outputs": [],
   "source": []
  },
  {
   "cell_type": "code",
   "execution_count": null,
   "metadata": {},
   "outputs": [],
   "source": []
  }
 ],
 "metadata": {
  "kernelspec": {
   "display_name": "Python 3",
   "language": "python",
   "name": "python3"
  },
  "language_info": {
   "codemirror_mode": {
    "name": "ipython",
    "version": 3
   },
   "file_extension": ".py",
   "mimetype": "text/x-python",
   "name": "python",
   "nbconvert_exporter": "python",
   "pygments_lexer": "ipython3",
   "version": "3.7.8"
  }
 },
 "nbformat": 4,
 "nbformat_minor": 4
}
