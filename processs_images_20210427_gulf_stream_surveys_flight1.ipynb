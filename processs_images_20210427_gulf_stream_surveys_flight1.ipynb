{
 "cells": [
  {
   "cell_type": "markdown",
   "metadata": {},
   "source": [
    "## Processing Ocean Color Imagery - Process Micasense Images"
   ]
  },
  {
   "cell_type": "markdown",
   "metadata": {},
   "source": [
    "Pull in all images and process with micasense tools\n",
    "    normalize and align and whatnot\n",
    "    put these into functions and clean up\n",
    "    also visualize along the way and look at distributions to think about whether or not they're legitimate\n",
    "    write out\n",
    "    \n",
    "Pull in all images as modified and metadata with specific functions\n",
    "    Visualize for issues and shadows and bright spots and locations\n",
    "    correct for sky radiance\n",
    "    visualize the distributions of both sky (clouds) and sea\n",
    "    look at the variability of spectra both for specific pixels and across nearby images\n",
    "    filter for orientation and location and issues\n",
    "\n",
    "take the water leaving spectra and convert to chla as well as other future products and just intro general analysis of spectra\n",
    "    produce a csv or .shp or images of ocean color products \n",
    "    "
   ]
  },
  {
   "cell_type": "code",
   "execution_count": 1,
   "metadata": {},
   "outputs": [],
   "source": [
    "%load_ext autoreload\n",
    "%autoreload 2"
   ]
  },
  {
   "cell_type": "code",
   "execution_count": 2,
   "metadata": {},
   "outputs": [],
   "source": [
    "from ipywidgets import FloatProgress, Layout\n",
    "from IPython.display import display\n",
    "from micasense import imageset as imageset\n",
    "from micasense import capture as capture\n",
    "import multiprocessing\n",
    "import glob, shutil, os\n",
    "\n",
    "import cv2\n",
    "import numpy as np\n",
    "import matplotlib.pyplot as plt\n",
    "\n",
    "\n",
    "import micasense.imageutils as imageutils\n",
    "import micasense.plotutils as plotutils\n",
    "\n",
    "import exiftool\n",
    "import datetime\n",
    "\n",
    "import subprocess\n",
    "import math\n",
    "\n",
    "from utils import *\n",
    "from georeg import *"
   ]
  },
  {
   "cell_type": "markdown",
   "metadata": {},
   "source": [
    "### Run the process"
   ]
  },
  {
   "cell_type": "markdown",
   "metadata": {},
   "source": [
    "#### first sort the images into sea and sky"
   ]
  },
  {
   "cell_type": "code",
   "execution_count": 3,
   "metadata": {},
   "outputs": [
    {
     "name": "stdout",
     "output_type": "stream",
     "text": [
      "all_imgs       sea\t    sky_rededge\r\n",
      "panel\t       sea_rededge  sunblocked_rededge\r\n",
      "panel_rededge  sky\t    SYNLog-13-24-55_07-04-2021.csv\r\n"
     ]
    }
   ],
   "source": [
    "! ls data/20210407_duml_full_workflow_test"
   ]
  },
  {
   "cell_type": "code",
   "execution_count": 4,
   "metadata": {},
   "outputs": [],
   "source": [
    "all_img_dir = os.path.join('data', '20210427_gulf_stream_surveys', 'flight1', 'all_imgs')\n",
    "sky_dst = os.path.join('data', '20210427_gulf_stream_surveys', 'flight1', 'sky')\n",
    "sea_dst = os.path.join('data', '20210427_gulf_stream_surveys', 'flight1', 'sea')"
   ]
  },
  {
   "cell_type": "code",
   "execution_count": 5,
   "metadata": {},
   "outputs": [
    {
     "name": "stdout",
     "output_type": "stream",
     "text": [
      "moved 3234 images\n"
     ]
    }
   ],
   "source": [
    "if not os.path.exists(sky_dst):\n",
    "    os.makedirs(sky_dst)\n",
    "\n",
    "if not os.path.exists(sea_dst):\n",
    "    os.makedirs(sea_dst)\n",
    "\n",
    "down_image_count = 10\n",
    "up_image_count = 2\n",
    "\n",
    "#go through each image\n",
    "i = 0\n",
    "j = 0\n",
    "count = 0\n",
    "for file in sorted(glob.glob(all_img_dir+ \"/*.tif\")):\n",
    "    if i < down_image_count*6:\n",
    "        shutil.move(file, sea_dst)\n",
    "        i += 1\n",
    "        if i == down_image_count*6:\n",
    "            j = 0\n",
    "    elif j < up_image_count*6:\n",
    "        shutil.move(file, sky_dst)\n",
    "        j += 1\n",
    "        if j == up_image_count*6:\n",
    "            i = 0\n",
    "    count += 1\n",
    "print('moved', count, 'images')"
   ]
  },
  {
   "cell_type": "markdown",
   "metadata": {},
   "source": [
    "### This is the typical full workflow"
   ]
  },
  {
   "cell_type": "code",
   "execution_count": 6,
   "metadata": {},
   "outputs": [
    {
     "data": {
      "text/plain": [
       "['data/20210427_gulf_stream_surveys/flight3/panel/IMG_0027_4.tif',\n",
       " 'data/20210427_gulf_stream_surveys/flight3/panel/IMG_0027_3.tif',\n",
       " 'data/20210427_gulf_stream_surveys/flight3/panel/IMG_0027_6.tif',\n",
       " 'data/20210427_gulf_stream_surveys/flight3/panel/IMG_0027_2.tif',\n",
       " 'data/20210427_gulf_stream_surveys/flight3/panel/IMG_0027_1.tif',\n",
       " 'data/20210427_gulf_stream_surveys/flight3/panel/IMG_0027_5.tif']"
      ]
     },
     "execution_count": 6,
     "metadata": {},
     "output_type": "execute_result"
    }
   ],
   "source": [
    "glob.glob(os.path.join('data', '20210427_gulf_stream_surveys', 'flight1', 'panel', 'IMG_0027*.tif'))"
   ]
  },
  {
   "cell_type": "code",
   "execution_count": 7,
   "metadata": {},
   "outputs": [
    {
     "name": "stdout",
     "output_type": "stream",
     "text": [
      "all_imgs  chla\tpanel  rededge\tsea  sky\r\n"
     ]
    }
   ],
   "source": [
    "! ls data/20210427_gulf_stream_surveys/flight1"
   ]
  },
  {
   "cell_type": "markdown",
   "metadata": {},
   "source": [
    "#### First process the Altum images"
   ]
  },
  {
   "cell_type": "markdown",
   "metadata": {},
   "source": [
    "From https://support.micasense.com/hc/en-us/articles/360025336894-Using-Panels-and-or-DLS-in-Post-Processing\n",
    "\n",
    "In the case of a clear, sunny day, we recommend using only the calibration panels. Light sensor data will not be as effective and so should generally not be used in this case.\n",
    "\n",
    "Light sensor data is most effective in overcast, completely cloudy conditions. In this case, we would recommend using both light sensor and panel data for calibration."
   ]
  },
  {
   "cell_type": "code",
   "execution_count": 10,
   "metadata": {},
   "outputs": [
    {
     "name": "stdout",
     "output_type": "stream",
     "text": [
      "Panel irradiance calculated.\n",
      "used warp dir data/20210427_gulf_stream_surveys/flight3/sea/align_img\n",
      "Aligning images. Depending on settings this can take from a few seconds to many minutes\n",
      "Finished aligning band 0\n",
      "Finished aligning band 2\n",
      "Finished aligning band 4\n",
      "Finished aligning band 1\n",
      "Finished aligning band 3\n",
      "Saving time: 0:23:52.542259\n",
      "Alignment+Saving rate: 0.31 images per second\n",
      "Finished saving images.\n",
      "exiftool -csv=\"data/20210427_gulf_stream_surveys/flight3/sea/stacks/log.csv\" -overwrite_original data/20210427_gulf_stream_surveys/flight3/sea/stacks\n",
      "Finished saving image metadata.\n"
     ]
    }
   ],
   "source": [
    "# to use the DLS and not the panel set this to None\n",
    "#panelNames = None\n",
    "panelNames = glob.glob(os.path.join('data', '20210427_gulf_stream_surveys', 'flight1', 'panel', 'IMG_0027*.tif'))\n",
    "# sky_dir = os.path.join('data', '20210427_gulf_stream_surveys', 'flight1', 'sky')\n",
    "# warp_img_dir = os.path.join('data', '20210427_gulf_stream_surveys', 'flight1', 'sky')\n",
    "# sky_out = process_micasense_subset(sky_dir, panelNames, warp_img_dir, overwrite=False)\n",
    "\n",
    "surface_dir = os.path.join('data', '20210427_gulf_stream_surveys', 'flight1', 'sea')\n",
    "warp_img_dir = os.path.join('data', '20210427_gulf_stream_surveys', 'flight1', 'sea', 'align_img')\n",
    "surface_out = process_micasense_subset(surface_dir, panelNames, warp_img_dir, overwrite=False)"
   ]
  },
  {
   "cell_type": "code",
   "execution_count": 9,
   "metadata": {},
   "outputs": [
    {
     "name": "stdout",
     "output_type": "stream",
     "text": [
      "    1 directories scanned\r\n",
      "   89 image files updated\r\n"
     ]
    }
   ],
   "source": [
    "! exiftool -csv=\"data/20210427_gulf_stream_surveys/flight1/sky/stacks/log.csv\" -overwrite_original data/20210427_gulf_stream_surveys/flight3/sky/stacks"
   ]
  },
  {
   "cell_type": "code",
   "execution_count": 11,
   "metadata": {},
   "outputs": [
    {
     "name": "stdout",
     "output_type": "stream",
     "text": [
      "    1 directories scanned\r\n",
      "  449 image files updated\r\n"
     ]
    }
   ],
   "source": [
    "! exiftool -csv=\"data/20210427_gulf_stream_surveys/flight1/sea/stacks/log.csv\" -overwrite_original data/20210427_gulf_stream_surveys/flight3/sea/stacks"
   ]
  },
  {
   "cell_type": "markdown",
   "metadata": {},
   "source": [
    "#### Now process the RedEdge Images\n",
    "\n",
    "Need to ensure these are the correct images via time. They do seem correct.\n",
    "\n",
    "Also note that the first couple sea images were bad because of spray and glint and shadow."
   ]
  },
  {
   "cell_type": "code",
   "execution_count": 19,
   "metadata": {},
   "outputs": [
    {
     "name": "stdout",
     "output_type": "stream",
     "text": [
      "panel  sea  sky  tube\r\n"
     ]
    }
   ],
   "source": [
    "! ls data/20210427_gulf_stream_surveys/flight1/rededge/"
   ]
  },
  {
   "cell_type": "code",
   "execution_count": 20,
   "metadata": {},
   "outputs": [
    {
     "name": "stdout",
     "output_type": "stream",
     "text": [
      "Panel irradiance calculated.\n",
      "used warp dir data/20210427_gulf_stream_surveys/flight3/rededge/sea\n",
      "Aligning images. Depending on settings this can take from a few seconds to many minutes\n",
      "Finished aligning band 0\n",
      "Finished aligning band 3\n",
      "Finished aligning band 1\n",
      "Finished aligning band 4\n",
      "Finished aligning band 2\n",
      "Saving time: 0:00:27.324249\n",
      "Alignment+Saving rate: 0.73 images per second\n",
      "Finished saving images.\n",
      "exiftool -csv=\"data/20210427_gulf_stream_surveys/flight3/rededge/tube/stacks/log.csv\" -overwrite_original data/20210427_gulf_stream_surveys/flight3/rededge/tube/stacks\n",
      "Finished saving image metadata.\n",
      "Panel irradiance calculated.\n",
      "used warp dir data/20210427_gulf_stream_surveys/flight3/rededge/sky\n",
      "Aligning images. Depending on settings this can take from a few seconds to many minutes\n",
      "Finished aligning band 0\n",
      "Finished aligning band 3\n",
      "Finished aligning band 4\n",
      "Finished aligning band 1\n",
      "Finished aligning band 2\n",
      "Saving time: 0:00:11.340801\n",
      "Alignment+Saving rate: 0.88 images per second\n",
      "Finished saving images.\n",
      "exiftool -csv=\"data/20210427_gulf_stream_surveys/flight3/rededge/sky/stacks/log.csv\" -overwrite_original data/20210427_gulf_stream_surveys/flight3/rededge/sky/stacks\n",
      "Finished saving image metadata.\n",
      "Panel irradiance calculated.\n",
      "used warp dir data/20210427_gulf_stream_surveys/flight3/rededge/sea\n",
      "Aligning images. Depending on settings this can take from a few seconds to many minutes\n",
      "Finished aligning band 0\n",
      "Finished aligning band 3\n",
      "Finished aligning band 4\n",
      "Finished aligning band 1\n",
      "Finished aligning band 2\n",
      "Saving time: 0:00:16.435731\n",
      "Alignment+Saving rate: 0.85 images per second\n",
      "Finished saving images.\n",
      "exiftool -csv=\"data/20210427_gulf_stream_surveys/flight3/rededge/sea/stacks/log.csv\" -overwrite_original data/20210427_gulf_stream_surveys/flight3/rededge/sea/stacks\n",
      "Finished saving image metadata.\n"
     ]
    }
   ],
   "source": [
    "# to use the DLS and not the panel set this to None\n",
    "#panelNames = None\n",
    "panelNames = glob.glob(os.path.join('data', '20210427_gulf_stream_surveys/flight1', 'rededge', 'panel', 'IMG_0001*.tif'))\n",
    "\n",
    "blocked_dir = os.path.join('data', '20210427_gulf_stream_surveys/flight1', 'rededge', 'tube')\n",
    "sky_dir = os.path.join('data', '20210427_gulf_stream_surveys/flight1', 'rededge', 'sky')\n",
    "surface_dir = os.path.join('data', '20210427_gulf_stream_surveys/flight1', 'rededge', 'sea')\n",
    "\n",
    "warp_img_dir = os.path.join('data', '20210427_gulf_stream_surveys/flight1', 'rededge', 'sea')\n",
    "sunlight_blocked_out = process_micasense_subset(blocked_dir, panelNames, warp_img_dir, overwrite=False)\n",
    "\n",
    "warp_img_dir = os.path.join('data', '20210427_gulf_stream_surveys/flight1', 'rededge', 'sky')\n",
    "sky_out = process_micasense_subset(sky_dir, panelNames, warp_img_dir, overwrite=False)\n",
    "\n",
    "warp_img_dir = os.path.join('data', '20210427_gulf_stream_surveys/flight1', 'rededge', 'sea')\n",
    "surface_out = process_micasense_subset(surface_dir, panelNames, warp_img_dir, overwrite=False)"
   ]
  },
  {
   "cell_type": "code",
   "execution_count": 21,
   "metadata": {},
   "outputs": [
    {
     "name": "stdout",
     "output_type": "stream",
     "text": [
      "    1 directories scanned\r\n",
      "   20 image files updated\r\n"
     ]
    }
   ],
   "source": [
    "! exiftool -csv=\"data/20210427_gulf_stream_surveys/flight1/rededge/tube/stacks/log.csv\" -overwrite_original data/20210427_gulf_stream_surveys/flight3/rededge/tube/stacks\n"
   ]
  },
  {
   "cell_type": "code",
   "execution_count": 22,
   "metadata": {},
   "outputs": [
    {
     "name": "stdout",
     "output_type": "stream",
     "text": [
      "    1 directories scanned\r\n",
      "   10 image files updated\r\n"
     ]
    }
   ],
   "source": [
    "! exiftool -csv=\"data/20210427_gulf_stream_surveys/flight1/rededge/sky/stacks/log.csv\" -overwrite_original data/20210427_gulf_stream_surveys/flight3/rededge/sky/stacks\n"
   ]
  },
  {
   "cell_type": "code",
   "execution_count": 23,
   "metadata": {},
   "outputs": [
    {
     "name": "stdout",
     "output_type": "stream",
     "text": [
      "    1 directories scanned\r\n",
      "   14 image files updated\r\n"
     ]
    }
   ],
   "source": [
    "! exiftool -csv=\"data/20210427_gulf_stream_surveys/flight1/rededge/sea/stacks/log.csv\" -overwrite_original data/20210427_gulf_stream_surveys/flight3/rededge/sea/stacks\n"
   ]
  },
  {
   "cell_type": "code",
   "execution_count": null,
   "metadata": {},
   "outputs": [],
   "source": []
  }
 ],
 "metadata": {
  "kernelspec": {
   "display_name": "Python 3",
   "language": "python",
   "name": "python3"
  },
  "language_info": {
   "codemirror_mode": {
    "name": "ipython",
    "version": 3
   },
   "file_extension": ".py",
   "mimetype": "text/x-python",
   "name": "python",
   "nbconvert_exporter": "python",
   "pygments_lexer": "ipython3",
   "version": "3.7.8"
  }
 },
 "nbformat": 4,
 "nbformat_minor": 4
}
