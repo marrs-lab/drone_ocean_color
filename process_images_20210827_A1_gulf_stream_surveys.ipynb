{
 "cells": [
  {
   "cell_type": "markdown",
   "metadata": {},
   "source": [
    "## Processing Ocean Color Imagery - Process Micasense Images"
   ]
  },
  {
   "cell_type": "markdown",
   "metadata": {},
   "source": [
    "Pull in all images and process with micasense tools\n",
    "    normalize and align and whatnot\n",
    "    put these into functions and clean up\n",
    "    also visualize along the way and look at distributions to think about whether or not they're legitimate\n",
    "    write out\n",
    "    \n",
    "Pull in all images as modified and metadata with specific functions\n",
    "    Visualize for issues and shadows and bright spots and locations\n",
    "    correct for sky radiance\n",
    "    visualize the distributions of both sky (clouds) and sea\n",
    "    look at the variability of spectra both for specific pixels and across nearby images\n",
    "    filter for orientation and location and issues\n",
    "\n",
    "take the water leaving spectra and convert to chla as well as other future products and just intro general analysis of spectra\n",
    "    produce a csv or .shp or images of ocean color products \n",
    "    "
   ]
  },
  {
   "cell_type": "code",
   "execution_count": 1,
   "metadata": {},
   "outputs": [],
   "source": [
    "%load_ext autoreload\n",
    "%autoreload 2"
   ]
  },
  {
   "cell_type": "code",
   "execution_count": 1,
   "metadata": {},
   "outputs": [],
   "source": [
    "from ipywidgets import FloatProgress, Layout\n",
    "from IPython.display import display\n",
    "from micasense import imageset as imageset\n",
    "from micasense import capture as capture\n",
    "import multiprocessing\n",
    "import glob, shutil, os\n",
    "\n",
    "import cv2\n",
    "import numpy as np\n",
    "import matplotlib.pyplot as plt\n",
    "\n",
    "\n",
    "import micasense.imageutils as imageutils\n",
    "import micasense.plotutils as plotutils\n",
    "\n",
    "import exiftool\n",
    "import datetime\n",
    "\n",
    "import subprocess\n",
    "import math\n",
    "\n",
    "from utils import *\n",
    "from georeg import *"
   ]
  },
  {
   "cell_type": "markdown",
   "metadata": {},
   "source": [
    "Inspect the Exposure, gain, DLS"
   ]
  },
  {
   "cell_type": "code",
   "execution_count": null,
   "metadata": {},
   "outputs": [],
   "source": [
    "imgset = imageset.ImageSet.from_directory(alt_dir)"
   ]
  },
  {
   "cell_type": "code",
   "execution_count": null,
   "metadata": {},
   "outputs": [],
   "source": [
    "dls_ed = []\n",
    "exposures = []\n",
    "gains = []\n",
    "for cap in imgset.captures:\n",
    "    if len(cap.dls_irradiance()) == 6:\n",
    "        dls_ed.append(np.array(cap.dls_irradiance()))\n",
    "        exp = []\n",
    "        gain_cap = []\n",
    "        for img in cap.images: \n",
    "            exp.append(img.exposure_time)\n",
    "            gain_cap.append(img.gain)\n",
    "        exposures.append(exp)\n",
    "        gains.append(gain_cap)\n",
    "        \n",
    "exposures = np.array(exposures)\n",
    "gains = np.array(gains)\n",
    "dls_ed = np.array(dls_ed)"
   ]
  },
  {
   "cell_type": "code",
   "execution_count": null,
   "metadata": {},
   "outputs": [],
   "source": [
    "band_names = ['blue', 'green', 'red', 'nir', 'red edge']\n",
    "\n",
    "fig, ax = plt.subplots(5,1, figsize=(12,18))\n",
    "\n",
    "for i in range(5):\n",
    "    ax[i].plot(exposures[100:280,i], color='green')\n",
    "    ax[i].set_ylim(0,.002)\n",
    "    ax2 = ax[i].twinx()\n",
    "    ax2.plot(gains[100:280,i], color='blue')\n",
    "    ax2.set_ylim(0,8.2)\n",
    "    ax3 = ax[i].twinx()\n",
    "    ax3.plot(dls_ed[100:280,i], color='red')\n",
    "#     ax3.set_ylim(.22,.5)\n",
    "    ax3.spines['right'].set_position(('outward', 60))\n",
    "    \n",
    "    ax[i].set_ylabel('exposure')\n",
    "    ax2.set_ylabel('gain')\n",
    "    ax3.set_ylabel('DLS Reading')\n",
    "    \n",
    "    ax[i].yaxis.label.set_color('green')\n",
    "    ax2.yaxis.label.set_color('blue')\n",
    "    ax3.yaxis.label.set_color('red')\n",
    "    \n",
    "    ax[i].set_title(band_names[i])\n",
    "    fig.tight_layout()\n",
    "    fig.savefig('gain_exposure_dls.png',dpi=300)\n",
    "    fig.show()\n",
    "#     "
   ]
  },
  {
   "cell_type": "markdown",
   "metadata": {},
   "source": [
    "### Run the process"
   ]
  },
  {
   "cell_type": "code",
   "execution_count": 5,
   "metadata": {},
   "outputs": [
    {
     "name": "stdout",
     "output_type": "stream",
     "text": [
      "0000SET  panel\tRedEdge  sea  SYNLog-13-39-33_27-08-2021.csv\r\n"
     ]
    }
   ],
   "source": [
    "! ls data/210827_A1_frontcross1/"
   ]
  },
  {
   "cell_type": "markdown",
   "metadata": {},
   "source": [
    "### This is the typical full workflow"
   ]
  },
  {
   "cell_type": "code",
   "execution_count": 9,
   "metadata": {},
   "outputs": [
    {
     "data": {
      "text/plain": [
       "['data/210827_A1_frontcross1/panel/IMG_0006_4.tif',\n",
       " 'data/210827_A1_frontcross1/panel/IMG_0006_2.tif',\n",
       " 'data/210827_A1_frontcross1/panel/IMG_0006_3.tif',\n",
       " 'data/210827_A1_frontcross1/panel/IMG_0006_1.tif',\n",
       " 'data/210827_A1_frontcross1/panel/IMG_0006_6.tif',\n",
       " 'data/210827_A1_frontcross1/panel/IMG_0006_5.tif']"
      ]
     },
     "execution_count": 9,
     "metadata": {},
     "output_type": "execute_result"
    }
   ],
   "source": [
    "glob.glob(os.path.join('data', '210827_A1_frontcross1', 'panel', 'IMG_0006*.tif'))"
   ]
  },
  {
   "cell_type": "markdown",
   "metadata": {},
   "source": [
    "#### First process the Altum images"
   ]
  },
  {
   "cell_type": "markdown",
   "metadata": {},
   "source": [
    "From https://support.micasense.com/hc/en-us/articles/360025336894-Using-Panels-and-or-DLS-in-Post-Processing\n",
    "\n",
    "In the case of a clear, sunny day, we recommend using only the calibration panels. Light sensor data will not be as effective and so should generally not be used in this case.\n",
    "\n",
    "Light sensor data is most effective in overcast, completely cloudy conditions. In this case, we would recommend using both light sensor and panel data for calibration."
   ]
  },
  {
   "cell_type": "code",
   "execution_count": 11,
   "metadata": {},
   "outputs": [
    {
     "name": "stdout",
     "output_type": "stream",
     "text": [
      "Panel irradiance calculated.\n",
      "used warp dir data/210827_A1_frontcross1/sea/align_img\n",
      "Aligning images. Depending on settings this can take from a few seconds to many minutes\n",
      "Finished aligning band 0\n",
      "Finished aligning band 4\n",
      "Finished aligning band 2\n",
      "Finished aligning band 1\n",
      "Finished aligning band 3\n",
      "Saving time: 0:34:08.950945\n",
      "Alignment+Saving rate: 0.25 images per second\n",
      "Finished saving images.\n",
      "exiftool -csv=\"data/210827_A1_frontcross1/sea/stacks/log.csv\" -overwrite_original data/210827_A1_frontcross1/sea/stacks\n",
      "Finished saving image metadata.\n"
     ]
    }
   ],
   "source": [
    "# to use the DLS and not the panel set this to None\n",
    "# panelNames = None\n",
    "panelNames = glob.glob(os.path.join('data', '210827_A1_frontcross1', 'panel', 'IMG_0006*.tif'))\n",
    "\n",
    "surface_dir = os.path.join('data', '210827_A1_frontcross1', 'sea')\n",
    "warp_img_dir = os.path.join('data', '210827_A1_frontcross1', 'sea', 'align_img')\n",
    "surface_out = process_micasense_subset(surface_dir, panelNames, warp_img_dir, overwrite=False)"
   ]
  },
  {
   "cell_type": "code",
   "execution_count": 12,
   "metadata": {},
   "outputs": [
    {
     "name": "stdout",
     "output_type": "stream",
     "text": [
      "    1 directories scanned\r\n",
      "  507 image files updated\r\n"
     ]
    }
   ],
   "source": [
    "! exiftool -csv=\"data/210827_A1_frontcross1/sea/stacks/log.csv\" -overwrite_original data/210827_A1_frontcross1/sea/stacks"
   ]
  },
  {
   "cell_type": "markdown",
   "metadata": {},
   "source": [
    "#### Now process the RedEdge Images\n",
    "\n",
    "Need to ensure these are the correct images via time. They do seem correct.\n",
    "\n",
    "Also note that the first couple sea images were bad because of spray and glint and shadow."
   ]
  },
  {
   "cell_type": "code",
   "execution_count": 15,
   "metadata": {},
   "outputs": [
    {
     "name": "stdout",
     "output_type": "stream",
     "text": [
      "panel  sea  sky  tube\r\n"
     ]
    }
   ],
   "source": [
    "! ls data/202108"
   ]
  },
  {
   "cell_type": "code",
   "execution_count": 13,
   "metadata": {},
   "outputs": [
    {
     "name": "stdout",
     "output_type": "stream",
     "text": [
      "Panel irradiance calculated.\n",
      "used warp dir data/210827_A1_frontcross1/RedEdge/tube\n",
      "Aligning images. Depending on settings this can take from a few seconds to many minutes\n",
      "Finished aligning band 0\n",
      "Finished aligning band 3\n",
      "Finished aligning band 2\n",
      "Finished aligning band 4\n",
      "Finished aligning band 1\n",
      "Saving time: 0:00:14.567565\n",
      "Alignment+Saving rate: 0.69 images per second\n",
      "Finished saving images.\n",
      "exiftool -csv=\"data/210827_A1_frontcross1/RedEdge/tube/stacks/log.csv\" -overwrite_original data/210827_A1_frontcross1/RedEdge/tube/stacks\n",
      "Finished saving image metadata.\n",
      "Panel irradiance calculated.\n"
     ]
    },
    {
     "ename": "ValueError",
     "evalue": "Provided file path does not have a band name: data/210827_A1_frontcross1/RedEdge/tube/stacks/J3EylIoPlnSU2lQMkE0D.tif",
     "output_type": "error",
     "traceback": [
      "\u001b[0;31m---------------------------------------------------------------------------\u001b[0m",
      "\u001b[0;31mValueError\u001b[0m                                Traceback (most recent call last)",
      "\u001b[0;32m<ipython-input-13-cb963b354433>\u001b[0m in \u001b[0;36m<module>\u001b[0;34m\u001b[0m\n\u001b[1;32m     10\u001b[0m \u001b[0;34m\u001b[0m\u001b[0m\n\u001b[1;32m     11\u001b[0m \u001b[0msunlight_blocked_out\u001b[0m \u001b[0;34m=\u001b[0m \u001b[0mprocess_micasense_subset\u001b[0m\u001b[0;34m(\u001b[0m\u001b[0mblocked_dir\u001b[0m\u001b[0;34m,\u001b[0m \u001b[0mpanelNames\u001b[0m\u001b[0;34m,\u001b[0m \u001b[0mwarp_img_dir\u001b[0m\u001b[0;34m,\u001b[0m \u001b[0moverwrite\u001b[0m\u001b[0;34m=\u001b[0m\u001b[0;32mFalse\u001b[0m\u001b[0;34m)\u001b[0m\u001b[0;34m\u001b[0m\u001b[0;34m\u001b[0m\u001b[0m\n\u001b[0;32m---> 12\u001b[0;31m \u001b[0msky_out\u001b[0m \u001b[0;34m=\u001b[0m \u001b[0mprocess_micasense_subset\u001b[0m\u001b[0;34m(\u001b[0m\u001b[0msky_dir\u001b[0m\u001b[0;34m,\u001b[0m \u001b[0mpanelNames\u001b[0m\u001b[0;34m,\u001b[0m \u001b[0mwarp_img_dir\u001b[0m\u001b[0;34m,\u001b[0m \u001b[0moverwrite\u001b[0m\u001b[0;34m=\u001b[0m\u001b[0;32mFalse\u001b[0m\u001b[0;34m)\u001b[0m\u001b[0;34m\u001b[0m\u001b[0;34m\u001b[0m\u001b[0m\n\u001b[0m\u001b[1;32m     13\u001b[0m \u001b[0msurface_out\u001b[0m \u001b[0;34m=\u001b[0m \u001b[0mprocess_micasense_subset\u001b[0m\u001b[0;34m(\u001b[0m\u001b[0msurface_dir\u001b[0m\u001b[0;34m,\u001b[0m \u001b[0mpanelNames\u001b[0m\u001b[0;34m,\u001b[0m \u001b[0mwarp_img_dir\u001b[0m\u001b[0;34m,\u001b[0m \u001b[0moverwrite\u001b[0m\u001b[0;34m=\u001b[0m\u001b[0;32mFalse\u001b[0m\u001b[0;34m)\u001b[0m\u001b[0;34m\u001b[0m\u001b[0;34m\u001b[0m\u001b[0m\n",
      "\u001b[0;32m~/Code/ocean_color/utils.py\u001b[0m in \u001b[0;36mprocess_micasense_subset\u001b[0;34m(img_dir, panelNames, warp_img_dir, overwrite, panelCorners)\u001b[0m\n\u001b[1;32m    212\u001b[0m \u001b[0;34m\u001b[0m\u001b[0m\n\u001b[1;32m    213\u001b[0m     \u001b[0;32mif\u001b[0m \u001b[0mwarp_img_dir\u001b[0m\u001b[0;34m:\u001b[0m\u001b[0;34m\u001b[0m\u001b[0;34m\u001b[0m\u001b[0m\n\u001b[0;32m--> 214\u001b[0;31m         \u001b[0mwarp_img_capture\u001b[0m \u001b[0;34m=\u001b[0m \u001b[0mimageset\u001b[0m\u001b[0;34m.\u001b[0m\u001b[0mImageSet\u001b[0m\u001b[0;34m.\u001b[0m\u001b[0mfrom_directory\u001b[0m\u001b[0;34m(\u001b[0m\u001b[0mwarp_img_dir\u001b[0m\u001b[0;34m)\u001b[0m\u001b[0;34m.\u001b[0m\u001b[0mcaptures\u001b[0m\u001b[0;34m[\u001b[0m\u001b[0;36m0\u001b[0m\u001b[0;34m]\u001b[0m\u001b[0;34m\u001b[0m\u001b[0;34m\u001b[0m\u001b[0m\n\u001b[0m\u001b[1;32m    215\u001b[0m         \u001b[0mprint\u001b[0m\u001b[0;34m(\u001b[0m\u001b[0;34m'used warp dir'\u001b[0m\u001b[0;34m,\u001b[0m \u001b[0mwarp_img_dir\u001b[0m\u001b[0;34m)\u001b[0m\u001b[0;34m\u001b[0m\u001b[0;34m\u001b[0m\u001b[0m\n\u001b[1;32m    216\u001b[0m     \u001b[0;32melse\u001b[0m\u001b[0;34m:\u001b[0m\u001b[0;34m\u001b[0m\u001b[0;34m\u001b[0m\u001b[0m\n",
      "\u001b[0;32m~/Code/ocean_color/micasense/imageset.py\u001b[0m in \u001b[0;36mfrom_directory\u001b[0;34m(cls, directory, progress_callback, exiftool_path)\u001b[0m\n\u001b[1;32m     66\u001b[0m         \u001b[0;32mwith\u001b[0m \u001b[0mexiftool\u001b[0m\u001b[0;34m.\u001b[0m\u001b[0mExifTool\u001b[0m\u001b[0;34m(\u001b[0m\u001b[0mexiftool_path\u001b[0m\u001b[0;34m)\u001b[0m \u001b[0;32mas\u001b[0m \u001b[0mexift\u001b[0m\u001b[0;34m:\u001b[0m\u001b[0;34m\u001b[0m\u001b[0;34m\u001b[0m\u001b[0m\n\u001b[1;32m     67\u001b[0m             \u001b[0;32mfor\u001b[0m \u001b[0mi\u001b[0m\u001b[0;34m,\u001b[0m\u001b[0mpath\u001b[0m \u001b[0;32min\u001b[0m \u001b[0menumerate\u001b[0m\u001b[0;34m(\u001b[0m\u001b[0mmatches\u001b[0m\u001b[0;34m)\u001b[0m\u001b[0;34m:\u001b[0m\u001b[0;34m\u001b[0m\u001b[0;34m\u001b[0m\u001b[0m\n\u001b[0;32m---> 68\u001b[0;31m                 \u001b[0mimages\u001b[0m\u001b[0;34m.\u001b[0m\u001b[0mappend\u001b[0m\u001b[0;34m(\u001b[0m\u001b[0mimage\u001b[0m\u001b[0;34m.\u001b[0m\u001b[0mImage\u001b[0m\u001b[0;34m(\u001b[0m\u001b[0mpath\u001b[0m\u001b[0;34m,\u001b[0m \u001b[0mexiftool_obj\u001b[0m\u001b[0;34m=\u001b[0m\u001b[0mexift\u001b[0m\u001b[0;34m)\u001b[0m\u001b[0;34m)\u001b[0m\u001b[0;34m\u001b[0m\u001b[0;34m\u001b[0m\u001b[0m\n\u001b[0m\u001b[1;32m     69\u001b[0m                 \u001b[0;32mif\u001b[0m \u001b[0mprogress_callback\u001b[0m \u001b[0;32mis\u001b[0m \u001b[0;32mnot\u001b[0m \u001b[0;32mNone\u001b[0m\u001b[0;34m:\u001b[0m\u001b[0;34m\u001b[0m\u001b[0;34m\u001b[0m\u001b[0m\n\u001b[1;32m     70\u001b[0m                     \u001b[0mprogress_callback\u001b[0m\u001b[0;34m(\u001b[0m\u001b[0mfloat\u001b[0m\u001b[0;34m(\u001b[0m\u001b[0mi\u001b[0m\u001b[0;34m)\u001b[0m\u001b[0;34m/\u001b[0m\u001b[0mfloat\u001b[0m\u001b[0;34m(\u001b[0m\u001b[0mlen\u001b[0m\u001b[0;34m(\u001b[0m\u001b[0mmatches\u001b[0m\u001b[0;34m)\u001b[0m\u001b[0;34m)\u001b[0m\u001b[0;34m)\u001b[0m\u001b[0;34m\u001b[0m\u001b[0;34m\u001b[0m\u001b[0m\n",
      "\u001b[0;32m~/Code/ocean_color/micasense/image.py\u001b[0m in \u001b[0;36m__init__\u001b[0;34m(self, image_path, exiftool_obj)\u001b[0m\n\u001b[1;32m     70\u001b[0m \u001b[0;34m\u001b[0m\u001b[0m\n\u001b[1;32m     71\u001b[0m         \u001b[0;32mif\u001b[0m \u001b[0mself\u001b[0m\u001b[0;34m.\u001b[0m\u001b[0mmeta\u001b[0m\u001b[0;34m.\u001b[0m\u001b[0mband_name\u001b[0m\u001b[0;34m(\u001b[0m\u001b[0;34m)\u001b[0m \u001b[0;32mis\u001b[0m \u001b[0;32mNone\u001b[0m\u001b[0;34m:\u001b[0m\u001b[0;34m\u001b[0m\u001b[0;34m\u001b[0m\u001b[0m\n\u001b[0;32m---> 72\u001b[0;31m             \u001b[0;32mraise\u001b[0m \u001b[0mValueError\u001b[0m\u001b[0;34m(\u001b[0m\u001b[0;34m\"Provided file path does not have a band name: {}\"\u001b[0m\u001b[0;34m.\u001b[0m\u001b[0mformat\u001b[0m\u001b[0;34m(\u001b[0m\u001b[0mimage_path\u001b[0m\u001b[0;34m)\u001b[0m\u001b[0;34m)\u001b[0m\u001b[0;34m\u001b[0m\u001b[0;34m\u001b[0m\u001b[0m\n\u001b[0m\u001b[1;32m     73\u001b[0m         \u001b[0;32mif\u001b[0m \u001b[0mself\u001b[0m\u001b[0;34m.\u001b[0m\u001b[0mmeta\u001b[0m\u001b[0;34m.\u001b[0m\u001b[0mband_name\u001b[0m\u001b[0;34m(\u001b[0m\u001b[0;34m)\u001b[0m\u001b[0;34m.\u001b[0m\u001b[0mupper\u001b[0m\u001b[0;34m(\u001b[0m\u001b[0;34m)\u001b[0m \u001b[0;34m!=\u001b[0m \u001b[0;34m'LWIR'\u001b[0m \u001b[0;32mand\u001b[0m \u001b[0;32mnot\u001b[0m \u001b[0mself\u001b[0m\u001b[0;34m.\u001b[0m\u001b[0mmeta\u001b[0m\u001b[0;34m.\u001b[0m\u001b[0msupports_radiometric_calibration\u001b[0m\u001b[0;34m(\u001b[0m\u001b[0;34m)\u001b[0m\u001b[0;34m:\u001b[0m\u001b[0;34m\u001b[0m\u001b[0;34m\u001b[0m\u001b[0m\n\u001b[1;32m     74\u001b[0m             raise ValueError('Library requires images taken with RedEdge-(3/M/MX) camera firmware v2.1.0 or later. ' +\n",
      "\u001b[0;31mValueError\u001b[0m: Provided file path does not have a band name: data/210827_A1_frontcross1/RedEdge/tube/stacks/J3EylIoPlnSU2lQMkE0D.tif"
     ]
    }
   ],
   "source": [
    "# to use the DLS and not the panel set this to None\n",
    "#panelNames = None\n",
    "panelNames = glob.glob(os.path.join('data', '210827_A1_frontcross1', 'RedEdge', 'panel', 'IMG_0000*.tif'))\n",
    "\n",
    "blocked_dir = os.path.join('data', '210827_A1_frontcross1', 'RedEdge', 'tube')\n",
    "sky_dir = os.path.join('data', '210827_A1_frontcross1', 'RedEdge', 'sky')\n",
    "surface_dir = os.path.join('data', '210827_A1_frontcross1', 'RedEdge', 'sea')\n",
    "\n",
    "warp_img_dir = os.path.join('data', '210827_A1_frontcross1', 'rededge', 'tube')\n",
    "\n",
    "sunlight_blocked_out = process_micasense_subset(blocked_dir, panelNames, warp_img_dir, overwrite=False)\n",
    "# sky_out = process_micasense_subset(sky_dir, panelNames, warp_img_dir, overwrite=False)\n",
    "# surface_out = process_micasense_subset(surface_dir, panelNames, warp_img_dir, overwrite=False)"
   ]
  },
  {
   "cell_type": "code",
   "execution_count": 15,
   "metadata": {},
   "outputs": [
    {
     "name": "stdout",
     "output_type": "stream",
     "text": [
      "Panel irradiance calculated.\n",
      "used warp dir data/210827_A1_frontcross1/RedEdge/sky\n",
      "Aligning images. Depending on settings this can take from a few seconds to many minutes\n",
      "Finished aligning band 0\n",
      "Finished aligning band 1\n",
      "Finished aligning band 4\n",
      "Finished aligning band 3\n",
      "Finished aligning band 2\n",
      "Saving time: 0:00:05.766430\n",
      "Alignment+Saving rate: 0.87 images per second\n",
      "Finished saving images.\n",
      "exiftool -csv=\"data/210827_A1_frontcross1/RedEdge/sky/stacks/log.csv\" -overwrite_original data/210827_A1_frontcross1/RedEdge/sky/stacks\n",
      "Finished saving image metadata.\n",
      "Panel irradiance calculated.\n",
      "used warp dir data/210827_A1_frontcross1/RedEdge/sea\n",
      "Aligning images. Depending on settings this can take from a few seconds to many minutes\n",
      "Finished aligning band 0\n",
      "Finished aligning band 1\n",
      "Finished aligning band 2\n",
      "Finished aligning band 4\n",
      "Finished aligning band 3\n",
      "Saving time: 0:00:03.828400\n",
      "Alignment+Saving rate: 0.78 images per second\n",
      "Finished saving images.\n",
      "exiftool -csv=\"data/210827_A1_frontcross1/RedEdge/sea/stacks/log.csv\" -overwrite_original data/210827_A1_frontcross1/RedEdge/sea/stacks\n",
      "Finished saving image metadata.\n"
     ]
    }
   ],
   "source": [
    "warp_img_dir = os.path.join('data', '210827_A1_frontcross1', 'RedEdge', 'sky')\n",
    "sky_out = process_micasense_subset(sky_dir, panelNames, warp_img_dir, overwrite=False)\n",
    "\n",
    "warp_img_dir = os.path.join('data', '210827_A1_frontcross1', 'RedEdge', 'sea')\n",
    "surface_out = process_micasense_subset(surface_dir, panelNames, warp_img_dir, overwrite=False)"
   ]
  },
  {
   "cell_type": "code",
   "execution_count": 17,
   "metadata": {},
   "outputs": [
    {
     "name": "stdout",
     "output_type": "stream",
     "text": [
      "    1 directories scanned\r\n",
      "   10 image files updated\r\n"
     ]
    }
   ],
   "source": [
    "! exiftool -csv=\"data/210827_A1_frontcross1/RedEdge/tube/stacks/log.csv\" -overwrite_original data/210827_A1_frontcross1/RedEdge/tube/stacks"
   ]
  },
  {
   "cell_type": "code",
   "execution_count": 19,
   "metadata": {},
   "outputs": [
    {
     "name": "stdout",
     "output_type": "stream",
     "text": [
      "    1 directories scanned\r\n",
      "    5 image files updated\r\n"
     ]
    }
   ],
   "source": [
    "! exiftool -csv=\"data/210827_A1_frontcross1/RedEdge/sky/stacks/log.csv\" -overwrite_original data/210827_A1_frontcross1/RedEdge/sky/stacks"
   ]
  },
  {
   "cell_type": "code",
   "execution_count": 20,
   "metadata": {},
   "outputs": [
    {
     "name": "stdout",
     "output_type": "stream",
     "text": [
      "    1 directories scanned\r\n",
      "    3 image files updated\r\n"
     ]
    }
   ],
   "source": [
    "! exiftool -csv=\"data/210827_A1_frontcross1/RedEdge/sea/stacks/log.csv\" -overwrite_original data/210827_A1_frontcross1/RedEdge/sea/stacks"
   ]
  },
  {
   "cell_type": "code",
   "execution_count": null,
   "metadata": {},
   "outputs": [],
   "source": []
  }
 ],
 "metadata": {
  "kernelspec": {
   "display_name": "Python 3",
   "language": "python",
   "name": "python3"
  },
  "language_info": {
   "codemirror_mode": {
    "name": "ipython",
    "version": 3
   },
   "file_extension": ".py",
   "mimetype": "text/x-python",
   "name": "python",
   "nbconvert_exporter": "python",
   "pygments_lexer": "ipython3",
   "version": "3.7.8"
  }
 },
 "nbformat": 4,
 "nbformat_minor": 4
}
