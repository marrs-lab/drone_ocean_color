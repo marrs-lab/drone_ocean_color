{
 "cells": [
  {
   "cell_type": "markdown",
   "metadata": {},
   "source": [
    "## Processing Ocean Color Imagery - Process Micasense Images"
   ]
  },
  {
   "cell_type": "markdown",
   "metadata": {},
   "source": [
    "Pull in all images and process with micasense tools\n",
    "    normalize and align and whatnot\n",
    "    put these into functions and clean up\n",
    "    also visualize along the way and look at distributions to think about whether or not they're legitimate\n",
    "    write out\n",
    "    \n",
    "Pull in all images as modified and metadata with specific functions\n",
    "    Visualize for issues and shadows and bright spots and locations\n",
    "    correct for sky radiance\n",
    "    visualize the distributions of both sky (clouds) and sea\n",
    "    look at the variability of spectra both for specific pixels and across nearby images\n",
    "    filter for orientation and location and issues\n",
    "\n",
    "take the water leaving spectra and convert to chla as well as other future products and just intro general analysis of spectra\n",
    "    produce a csv or .shp or images of ocean color products \n",
    "    "
   ]
  },
  {
   "cell_type": "code",
   "execution_count": 1,
   "metadata": {},
   "outputs": [],
   "source": [
    "%load_ext autoreload\n",
    "%autoreload 2"
   ]
  },
  {
   "cell_type": "code",
   "execution_count": 2,
   "metadata": {},
   "outputs": [],
   "source": [
    "from ipywidgets import FloatProgress, Layout\n",
    "from IPython.display import display\n",
    "from micasense import imageset as imageset\n",
    "from micasense import capture as capture\n",
    "import multiprocessing\n",
    "import glob, shutil, os\n",
    "\n",
    "import cv2\n",
    "import numpy as np\n",
    "import matplotlib.pyplot as plt\n",
    "\n",
    "\n",
    "import micasense.imageutils as imageutils\n",
    "import micasense.plotutils as plotutils\n",
    "\n",
    "import exiftool\n",
    "import datetime\n",
    "\n",
    "import subprocess\n",
    "import math\n"
   ]
  },
  {
   "cell_type": "markdown",
   "metadata": {},
   "source": [
    "### Run the process"
   ]
  },
  {
   "cell_type": "markdown",
   "metadata": {},
   "source": [
    "#### first sort the images into sea and sky"
   ]
  },
  {
   "cell_type": "code",
   "execution_count": 13,
   "metadata": {},
   "outputs": [
    {
     "name": "stdout",
     "output_type": "stream",
     "text": [
      "all_imgs  panel_rededge  sea_rededge  sky_rededge\r\n",
      "panel\t  sea\t\t sky\t      sunblocked_rededge\r\n"
     ]
    }
   ],
   "source": [
    "! ls data/20210407_duml_full_workflow_test"
   ]
  },
  {
   "cell_type": "code",
   "execution_count": 15,
   "metadata": {},
   "outputs": [],
   "source": [
    "all_img_dir = os.path.join('data', '20210407_duml_full_workflow_test', 'all_imgs')\n",
    "sky_dst = os.path.join('data', '20210407_duml_full_workflow_test', 'sky')\n",
    "sea_dst = os.path.join('data', '20210407_duml_full_workflow_test', 'sea')"
   ]
  },
  {
   "cell_type": "code",
   "execution_count": 16,
   "metadata": {},
   "outputs": [],
   "source": [
    "if not os.path.exists(sky_dst):\n",
    "    os.makedirs(sky_dst)\n",
    "\n",
    "if not os.path.exists(sea_dst):\n",
    "    os.makedirs(sea_dst)\n",
    "\n",
    "down_image_count = 10\n",
    "up_image_count = 8\n",
    "\n",
    "#go through each image\n",
    "i = 0\n",
    "j = 0\n",
    "for file in sorted(glob.glob(all_img_dir+ \"/*.tif\")):\n",
    "    if i < down_image_count*6:\n",
    "        shutil.move(file, sea_dst)\n",
    "        i += 1\n",
    "        if i == down_image_count*6:\n",
    "            j = 0\n",
    "    elif j < up_image_count*6:\n",
    "        shutil.move(file, sky_dst)\n",
    "        j += 1\n",
    "        if j == up_image_count*6:\n",
    "            i = 0"
   ]
  },
  {
   "cell_type": "markdown",
   "metadata": {},
   "source": [
    "#### Now the real processing code"
   ]
  },
  {
   "cell_type": "code",
   "execution_count": 17,
   "metadata": {},
   "outputs": [
    {
     "name": "stdout",
     "output_type": "stream",
     "text": [
      "all_imgs  panel_rededge  sea_rededge  sky_rededge\r\n",
      "panel\t  sea\t\t sky\t      sunblocked_rededge\r\n"
     ]
    }
   ],
   "source": [
    "! ls data/20210407_duml_full_workflow_test"
   ]
  },
  {
   "cell_type": "code",
   "execution_count": 20,
   "metadata": {
    "scrolled": true
   },
   "outputs": [
    {
     "data": {
      "text/plain": [
       "['data/20210317_duml_360_altitude_testing/altitude_test/panel/IMG_0495_2.tif',\n",
       " 'data/20210317_duml_360_altitude_testing/altitude_test/panel/IMG_0495_5.tif',\n",
       " 'data/20210317_duml_360_altitude_testing/altitude_test/panel/IMG_0495_3.tif',\n",
       " 'data/20210317_duml_360_altitude_testing/altitude_test/panel/IMG_0495_1.tif',\n",
       " 'data/20210317_duml_360_altitude_testing/altitude_test/panel/IMG_0495_6.tif',\n",
       " 'data/20210317_duml_360_altitude_testing/altitude_test/panel/IMG_0495_4.tif']"
      ]
     },
     "execution_count": 20,
     "metadata": {},
     "output_type": "execute_result"
    }
   ],
   "source": [
    "glob.glob(os.path.join('data', '20210317_duml_360_altitude_testing', 'altitude_test', 'panel', 'IMG_0495*.tif'))"
   ]
  },
  {
   "cell_type": "code",
   "execution_count": 45,
   "metadata": {},
   "outputs": [
    {
     "data": {
      "text/plain": [
       "'data/20210317_duml_360_altitude_testing/varying_altitude'"
      ]
     },
     "execution_count": 45,
     "metadata": {},
     "output_type": "execute_result"
    }
   ],
   "source": [
    "warp_img_dir"
   ]
  },
  {
   "cell_type": "code",
   "execution_count": 51,
   "metadata": {},
   "outputs": [
    {
     "name": "stdout",
     "output_type": "stream",
     "text": [
      "Not using panel irradiance.\n",
      "used warp dir data/20210317_duml_360_altitude_testing/altitude_test/varying_altitude\n",
      "Aligning images. Depending on settings this can take from a few seconds to many minutes\n",
      "Finished aligning band 2\n",
      "Finished aligning band 1\n",
      "Finished aligning band 0\n",
      "Finished aligning band 3\n",
      "Finished aligning band 4\n",
      "Saving time: 0:17:05.402282\n",
      "Alignment+Saving rate: 0.33 images per second\n",
      "Finished saving images.\n",
      "exiftool -csv=\"data/20210317_duml_360_altitude_testing/altitude_test/varying_altitude/stacks/log.csv\" -overwrite_original data/20210317_duml_360_altitude_testing/altitude_test/varying_altitude/stacks\n",
      "Finished saving image metadata.\n"
     ]
    }
   ],
   "source": [
    "panelNames = None\n",
    "#panelNames = glob.glob(os.path.join('data', '20210317_duml_360_altitude_testing', 'altitude_test', 'panel', 'IMG_0494_*.tif'))\n",
    "alt_dir = os.path.join('data', '20210317_duml_360_altitude_testing', 'altitude_test', 'varying_altitude')\n",
    "\n",
    "warp_img_dir = os.path.join('data', '20210317_duml_360_altitude_testing', 'altitude_test', 'varying_altitude')\n",
    "\n",
    "altitude_out = process_micasense_subset(alt_dir, panelNames, warp_img_dir, overwrite=False)"
   ]
  },
  {
   "cell_type": "code",
   "execution_count": null,
   "metadata": {},
   "outputs": [],
   "source": [
    "panelNames = glob.glob(os.path.join('data', '20210317_duml_360_altitude_testing', 'altitude_test', 'panel', 'IMG_0494_*.tif'))\n",
    "alt_dir = os.path.join('data', '20210317_duml_360_altitude_testing', 'altitude_test', 'varying_altitude')\n",
    "\n",
    "warp_img_dir = os.path.join('data', '20210317_duml_360_altitude_testing', 'panel')\n",
    "\n",
    "altitude_out = process_micasense_subset(alt_dir, panelNames, warp_img_dir, overwrite=False, panelCorners=[[150, 500], [150, 1000], [600, 1000], [600, 500]])"
   ]
  },
  {
   "cell_type": "markdown",
   "metadata": {},
   "source": [
    "### This is the typical full workflow"
   ]
  },
  {
   "cell_type": "code",
   "execution_count": 21,
   "metadata": {},
   "outputs": [
    {
     "data": {
      "text/plain": [
       "['data/20210407_duml_full_workflow_test/panel/IMG_0008_1.tif',\n",
       " 'data/20210407_duml_full_workflow_test/panel/IMG_0008_5.tif',\n",
       " 'data/20210407_duml_full_workflow_test/panel/IMG_0008_2.tif',\n",
       " 'data/20210407_duml_full_workflow_test/panel/IMG_0008_3.tif',\n",
       " 'data/20210407_duml_full_workflow_test/panel/IMG_0008_6.tif',\n",
       " 'data/20210407_duml_full_workflow_test/panel/IMG_0008_4.tif']"
      ]
     },
     "execution_count": 21,
     "metadata": {},
     "output_type": "execute_result"
    }
   ],
   "source": [
    "glob.glob(os.path.join('data', '20210304_duml_newgimbal_mapping_testing', 'panel', 'IMG_0008*.tif'))"
   ]
  },
  {
   "cell_type": "code",
   "execution_count": 22,
   "metadata": {},
   "outputs": [
    {
     "name": "stdout",
     "output_type": "stream",
     "text": [
      "all_imgs  panel_rededge  sea_rededge  sky_rededge\r\n",
      "panel\t  sea\t\t sky\t      sunblocked_rededge\r\n"
     ]
    }
   ],
   "source": [
    "! ls data/20210407_duml_full_workflow_test/"
   ]
  },
  {
   "cell_type": "markdown",
   "metadata": {},
   "source": [
    "First process the Altum images"
   ]
  },
  {
   "cell_type": "code",
   "execution_count": 32,
   "metadata": {},
   "outputs": [],
   "source": [
    "c = capture.Capture.from_filelist(panelNames)"
   ]
  },
  {
   "cell_type": "code",
   "execution_count": 35,
   "metadata": {},
   "outputs": [],
   "source": [
    "imgset = imageset.ImageSet.from_directory(os.path.join('data', '20210407_duml_full_workflow_test', 'panel'))"
   ]
  },
  {
   "cell_type": "code",
   "execution_count": 13,
   "metadata": {},
   "outputs": [
    {
     "name": "stdout",
     "output_type": "stream",
     "text": [
      "Not using panel irradiance.\n",
      "used warp dir data/20210304_duml_newgimbal_mapping_testing/sky\n",
      "Aligning images. Depending on settings this can take from a few seconds to many minutes\n",
      "Finished aligning band 2\n",
      "Finished aligning band 4\n",
      "Finished aligning band 1\n",
      "Finished aligning band 3\n",
      "Finished aligning band 0\n",
      "Saving time: 0:06:36.121410\n",
      "Alignment+Saving rate: 0.32 images per second\n",
      "Finished saving images.\n",
      "exiftool -csv=\"data/20210304_duml_newgimbal_mapping_testing/sky/stacks/log.csv\" -overwrite_original data/20210304_duml_newgimbal_mapping_testing/sky/stacks\n",
      "Finished saving image metadata.\n"
     ]
    }
   ],
   "source": [
    "# to use the DLS and not the panel set this to None\n",
    "panelNames = None\n",
    "#panelNames = glob.glob(os.path.join('data', '20210407_duml_full_workflow_test', 'panel', 'IMG_0008*.tif'))\n",
    "#blocked_dir = os.path.join('data', '20210407_duml_full_workflow_test', 'sun_blocked')\n",
    "#surface_dir = os.path.join('data', '20210304_duml_newgimbal_mapping_testing', 'sea')\n",
    "sky_dir = os.path.join('data', '20210304_duml_newgimbal_mapping_testing', 'sky')\n",
    "\n",
    "warp_img_dir = os.path.join('data', '20210304_duml_newgimbal_mapping_testing', 'sky')\n",
    "\n",
    "#sunlight_blocked_out = process_micasense_subset(blocked_dir, panelNames, warp_img_dir, overwrite=False)\n",
    "#surface_out = process_micasense_subset(surface_dir, panelNames, warp_img_dir, overwrite=False)\n",
    "sky_out = process_micasense_subset(sky_dir, panelNames, warp_img_dir, overwrite=False)"
   ]
  },
  {
   "cell_type": "code",
   "execution_count": 14,
   "metadata": {},
   "outputs": [
    {
     "name": "stdout",
     "output_type": "stream",
     "text": [
      "    1 directories scanned\r\n",
      "  128 image files updated\r\n"
     ]
    }
   ],
   "source": [
    "! exiftool -csv=\"data/20210304_duml_newgimbal_mapping_testing/sky/stacks/log.csv\" -overwrite_original data/20210304_duml_newgimbal_mapping_testing/sky/stacks"
   ]
  },
  {
   "cell_type": "code",
   "execution_count": 11,
   "metadata": {
    "scrolled": false
   },
   "outputs": [
    {
     "name": "stdout",
     "output_type": "stream",
     "text": [
      "Not using panel irradiance.\n",
      "used warp dir data/20210304_duml_newgimbal_mapping_testing/sea\n",
      "Aligning images. Depending on settings this can take from a few seconds to many minutes\n",
      "Finished aligning band 2\n",
      "Finished aligning band 0\n",
      "Finished aligning band 3\n",
      "Finished aligning band 1\n",
      "Finished aligning band 4\n",
      "Saving time: 0:34:53.511129\n",
      "Alignment+Saving rate: 0.31 images per second\n",
      "Finished saving images.\n",
      "exiftool -csv=\"data/20210304_duml_newgimbal_mapping_testing/sea/stacks/log.csv\" -overwrite_original data/20210304_duml_newgimbal_mapping_testing/sea/stacks\n",
      "Finished saving image metadata.\n",
      "Not using panel irradiance.\n"
     ]
    },
    {
     "ename": "ValueError",
     "evalue": "Provided file path does not have a band name: data/20210304_duml_newgimbal_mapping_testing/sea/stacks/ssNzzmZLkRg4Kffm2g8N.tif",
     "output_type": "error",
     "traceback": [
      "\u001b[0;31m---------------------------------------------------------------------------\u001b[0m",
      "\u001b[0;31mValueError\u001b[0m                                Traceback (most recent call last)",
      "\u001b[0;32m<ipython-input-11-f14e1ea3cdef>\u001b[0m in \u001b[0;36m<module>\u001b[0;34m\u001b[0m\n\u001b[1;32m     10\u001b[0m \u001b[0;31m#sunlight_blocked_out = process_micasense_subset(blocked_dir, panelNames, warp_img_dir, overwrite=False)\u001b[0m\u001b[0;34m\u001b[0m\u001b[0;34m\u001b[0m\u001b[0;34m\u001b[0m\u001b[0m\n\u001b[1;32m     11\u001b[0m \u001b[0msurface_out\u001b[0m \u001b[0;34m=\u001b[0m \u001b[0mprocess_micasense_subset\u001b[0m\u001b[0;34m(\u001b[0m\u001b[0msurface_dir\u001b[0m\u001b[0;34m,\u001b[0m \u001b[0mpanelNames\u001b[0m\u001b[0;34m,\u001b[0m \u001b[0mwarp_img_dir\u001b[0m\u001b[0;34m,\u001b[0m \u001b[0moverwrite\u001b[0m\u001b[0;34m=\u001b[0m\u001b[0;32mFalse\u001b[0m\u001b[0;34m)\u001b[0m\u001b[0;34m\u001b[0m\u001b[0;34m\u001b[0m\u001b[0m\n\u001b[0;32m---> 12\u001b[0;31m \u001b[0msky_out\u001b[0m \u001b[0;34m=\u001b[0m \u001b[0mprocess_micasense_subset\u001b[0m\u001b[0;34m(\u001b[0m\u001b[0msky_dir\u001b[0m\u001b[0;34m,\u001b[0m \u001b[0mpanelNames\u001b[0m\u001b[0;34m,\u001b[0m \u001b[0mwarp_img_dir\u001b[0m\u001b[0;34m,\u001b[0m \u001b[0moverwrite\u001b[0m\u001b[0;34m=\u001b[0m\u001b[0;32mFalse\u001b[0m\u001b[0;34m)\u001b[0m\u001b[0;34m\u001b[0m\u001b[0;34m\u001b[0m\u001b[0m\n\u001b[0m",
      "\u001b[0;32m<ipython-input-9-cf779ceaa6e4>\u001b[0m in \u001b[0;36mprocess_micasense_subset\u001b[0;34m(img_dir, panelNames, warp_img_dir, overwrite, panelCorners)\u001b[0m\n\u001b[1;32m     17\u001b[0m \u001b[0;34m\u001b[0m\u001b[0m\n\u001b[1;32m     18\u001b[0m     \u001b[0;32mif\u001b[0m \u001b[0mwarp_img_dir\u001b[0m\u001b[0;34m:\u001b[0m\u001b[0;34m\u001b[0m\u001b[0;34m\u001b[0m\u001b[0m\n\u001b[0;32m---> 19\u001b[0;31m         \u001b[0mwarp_img_capture\u001b[0m \u001b[0;34m=\u001b[0m \u001b[0mimageset\u001b[0m\u001b[0;34m.\u001b[0m\u001b[0mImageSet\u001b[0m\u001b[0;34m.\u001b[0m\u001b[0mfrom_directory\u001b[0m\u001b[0;34m(\u001b[0m\u001b[0mwarp_img_dir\u001b[0m\u001b[0;34m)\u001b[0m\u001b[0;34m.\u001b[0m\u001b[0mcaptures\u001b[0m\u001b[0;34m[\u001b[0m\u001b[0;36m0\u001b[0m\u001b[0;34m]\u001b[0m\u001b[0;34m\u001b[0m\u001b[0;34m\u001b[0m\u001b[0m\n\u001b[0m\u001b[1;32m     20\u001b[0m         \u001b[0mprint\u001b[0m\u001b[0;34m(\u001b[0m\u001b[0;34m'used warp dir'\u001b[0m\u001b[0;34m,\u001b[0m \u001b[0mwarp_img_dir\u001b[0m\u001b[0;34m)\u001b[0m\u001b[0;34m\u001b[0m\u001b[0;34m\u001b[0m\u001b[0m\n\u001b[1;32m     21\u001b[0m     \u001b[0;32melse\u001b[0m\u001b[0;34m:\u001b[0m\u001b[0;34m\u001b[0m\u001b[0;34m\u001b[0m\u001b[0m\n",
      "\u001b[0;32m~/Code/ocean_color/micasense/imageset.py\u001b[0m in \u001b[0;36mfrom_directory\u001b[0;34m(cls, directory, progress_callback, exiftool_path)\u001b[0m\n\u001b[1;32m     66\u001b[0m         \u001b[0;32mwith\u001b[0m \u001b[0mexiftool\u001b[0m\u001b[0;34m.\u001b[0m\u001b[0mExifTool\u001b[0m\u001b[0;34m(\u001b[0m\u001b[0mexiftool_path\u001b[0m\u001b[0;34m)\u001b[0m \u001b[0;32mas\u001b[0m \u001b[0mexift\u001b[0m\u001b[0;34m:\u001b[0m\u001b[0;34m\u001b[0m\u001b[0;34m\u001b[0m\u001b[0m\n\u001b[1;32m     67\u001b[0m             \u001b[0;32mfor\u001b[0m \u001b[0mi\u001b[0m\u001b[0;34m,\u001b[0m\u001b[0mpath\u001b[0m \u001b[0;32min\u001b[0m \u001b[0menumerate\u001b[0m\u001b[0;34m(\u001b[0m\u001b[0mmatches\u001b[0m\u001b[0;34m)\u001b[0m\u001b[0;34m:\u001b[0m\u001b[0;34m\u001b[0m\u001b[0;34m\u001b[0m\u001b[0m\n\u001b[0;32m---> 68\u001b[0;31m                 \u001b[0mimages\u001b[0m\u001b[0;34m.\u001b[0m\u001b[0mappend\u001b[0m\u001b[0;34m(\u001b[0m\u001b[0mimage\u001b[0m\u001b[0;34m.\u001b[0m\u001b[0mImage\u001b[0m\u001b[0;34m(\u001b[0m\u001b[0mpath\u001b[0m\u001b[0;34m,\u001b[0m \u001b[0mexiftool_obj\u001b[0m\u001b[0;34m=\u001b[0m\u001b[0mexift\u001b[0m\u001b[0;34m)\u001b[0m\u001b[0;34m)\u001b[0m\u001b[0;34m\u001b[0m\u001b[0;34m\u001b[0m\u001b[0m\n\u001b[0m\u001b[1;32m     69\u001b[0m                 \u001b[0;32mif\u001b[0m \u001b[0mprogress_callback\u001b[0m \u001b[0;32mis\u001b[0m \u001b[0;32mnot\u001b[0m \u001b[0;32mNone\u001b[0m\u001b[0;34m:\u001b[0m\u001b[0;34m\u001b[0m\u001b[0;34m\u001b[0m\u001b[0m\n\u001b[1;32m     70\u001b[0m                     \u001b[0mprogress_callback\u001b[0m\u001b[0;34m(\u001b[0m\u001b[0mfloat\u001b[0m\u001b[0;34m(\u001b[0m\u001b[0mi\u001b[0m\u001b[0;34m)\u001b[0m\u001b[0;34m/\u001b[0m\u001b[0mfloat\u001b[0m\u001b[0;34m(\u001b[0m\u001b[0mlen\u001b[0m\u001b[0;34m(\u001b[0m\u001b[0mmatches\u001b[0m\u001b[0;34m)\u001b[0m\u001b[0;34m)\u001b[0m\u001b[0;34m)\u001b[0m\u001b[0;34m\u001b[0m\u001b[0;34m\u001b[0m\u001b[0m\n",
      "\u001b[0;32m~/Code/ocean_color/micasense/image.py\u001b[0m in \u001b[0;36m__init__\u001b[0;34m(self, image_path, exiftool_obj)\u001b[0m\n\u001b[1;32m     70\u001b[0m \u001b[0;34m\u001b[0m\u001b[0m\n\u001b[1;32m     71\u001b[0m         \u001b[0;32mif\u001b[0m \u001b[0mself\u001b[0m\u001b[0;34m.\u001b[0m\u001b[0mmeta\u001b[0m\u001b[0;34m.\u001b[0m\u001b[0mband_name\u001b[0m\u001b[0;34m(\u001b[0m\u001b[0;34m)\u001b[0m \u001b[0;32mis\u001b[0m \u001b[0;32mNone\u001b[0m\u001b[0;34m:\u001b[0m\u001b[0;34m\u001b[0m\u001b[0;34m\u001b[0m\u001b[0m\n\u001b[0;32m---> 72\u001b[0;31m             \u001b[0;32mraise\u001b[0m \u001b[0mValueError\u001b[0m\u001b[0;34m(\u001b[0m\u001b[0;34m\"Provided file path does not have a band name: {}\"\u001b[0m\u001b[0;34m.\u001b[0m\u001b[0mformat\u001b[0m\u001b[0;34m(\u001b[0m\u001b[0mimage_path\u001b[0m\u001b[0;34m)\u001b[0m\u001b[0;34m)\u001b[0m\u001b[0;34m\u001b[0m\u001b[0;34m\u001b[0m\u001b[0m\n\u001b[0m\u001b[1;32m     73\u001b[0m         \u001b[0;32mif\u001b[0m \u001b[0mself\u001b[0m\u001b[0;34m.\u001b[0m\u001b[0mmeta\u001b[0m\u001b[0;34m.\u001b[0m\u001b[0mband_name\u001b[0m\u001b[0;34m(\u001b[0m\u001b[0;34m)\u001b[0m\u001b[0;34m.\u001b[0m\u001b[0mupper\u001b[0m\u001b[0;34m(\u001b[0m\u001b[0;34m)\u001b[0m \u001b[0;34m!=\u001b[0m \u001b[0;34m'LWIR'\u001b[0m \u001b[0;32mand\u001b[0m \u001b[0;32mnot\u001b[0m \u001b[0mself\u001b[0m\u001b[0;34m.\u001b[0m\u001b[0mmeta\u001b[0m\u001b[0;34m.\u001b[0m\u001b[0msupports_radiometric_calibration\u001b[0m\u001b[0;34m(\u001b[0m\u001b[0;34m)\u001b[0m\u001b[0;34m:\u001b[0m\u001b[0;34m\u001b[0m\u001b[0;34m\u001b[0m\u001b[0m\n\u001b[1;32m     74\u001b[0m             raise ValueError('Library requires images taken with RedEdge-(3/M/MX) camera firmware v2.1.0 or later. ' +\n",
      "\u001b[0;31mValueError\u001b[0m: Provided file path does not have a band name: data/20210304_duml_newgimbal_mapping_testing/sea/stacks/ssNzzmZLkRg4Kffm2g8N.tif"
     ]
    }
   ],
   "source": [
    "# to use the DLS and not the panel set this to None\n",
    "panelNames = None\n",
    "#panelNames = glob.glob(os.path.join('data', '20210407_duml_full_workflow_test', 'panel', 'IMG_0008*.tif'))\n",
    "#blocked_dir = os.path.join('data', '20210407_duml_full_workflow_test', 'sun_blocked')\n",
    "surface_dir = os.path.join('data', '20210304_duml_newgimbal_mapping_testing', 'sea')\n",
    "sky_dir = os.path.join('data', '20210304_duml_newgimbal_mapping_testing', 'sky')\n",
    "\n",
    "warp_img_dir = os.path.join('data', '20210304_duml_newgimbal_mapping_testing', 'sea')\n",
    "\n",
    "#sunlight_blocked_out = process_micasense_subset(blocked_dir, panelNames, warp_img_dir, overwrite=False)\n",
    "surface_out = process_micasense_subset(surface_dir, panelNames, warp_img_dir, overwrite=False)\n",
    "sky_out = process_micasense_subset(sky_dir, panelNames, warp_img_dir, overwrite=False)"
   ]
  },
  {
   "cell_type": "code",
   "execution_count": 12,
   "metadata": {},
   "outputs": [
    {
     "name": "stdout",
     "output_type": "stream",
     "text": [
      "    1 directories scanned\r\n",
      "  645 image files updated\r\n"
     ]
    }
   ],
   "source": [
    "! exiftool -csv=\"data/20210304_duml_newgimbal_mapping_testing/sea/stacks/log.csv\" -overwrite_original data/20210304_duml_newgimbal_mapping_testing/sea/stacks"
   ]
  },
  {
   "cell_type": "code",
   "execution_count": 24,
   "metadata": {},
   "outputs": [
    {
     "name": "stdout",
     "output_type": "stream",
     "text": [
      "Panel irradiance calculated.\n",
      "used warp dir data/20210407_duml_full_workflow_test/sea\n",
      "Aligning images. Depending on settings this can take from a few seconds to many minutes\n",
      "Finished aligning band 2\n",
      "Finished aligning band 1\n",
      "Finished aligning band 0\n",
      "Finished aligning band 4\n",
      "Finished aligning band 3\n",
      "Saving time: 0:10:09.499021\n",
      "Alignment+Saving rate: 0.31 images per second\n",
      "Finished saving images.\n",
      "exiftool -csv=\"data/20210407_duml_full_workflow_test/sea/stacks/log.csv\" -overwrite_original data/20210407_duml_full_workflow_test/sea/stacks\n",
      "Finished saving image metadata.\n"
     ]
    }
   ],
   "source": [
    "surface_dir = os.path.join('data', '20210407_duml_full_workflow_test', 'sea')\n",
    "surface_out = process_micasense_subset(surface_dir, panelNames, warp_img_dir, overwrite=False)"
   ]
  },
  {
   "cell_type": "code",
   "execution_count": 25,
   "metadata": {},
   "outputs": [
    {
     "name": "stdout",
     "output_type": "stream",
     "text": [
      "    1 directories scanned\r\n",
      "  144 image files updated\r\n"
     ]
    }
   ],
   "source": [
    "! exiftool -csv=\"data/20210407_duml_full_workflow_test/sky/stacks/log.csv\" -overwrite_original data/20210407_duml_full_workflow_test/sky/stacks"
   ]
  },
  {
   "cell_type": "code",
   "execution_count": 26,
   "metadata": {},
   "outputs": [
    {
     "name": "stdout",
     "output_type": "stream",
     "text": [
      "    1 directories scanned\r\n",
      "  187 image files updated\r\n"
     ]
    }
   ],
   "source": [
    "! exiftool -csv=\"data/20210407_duml_full_workflow_test/sea/stacks/log.csv\" -overwrite_original data/20210407_duml_full_workflow_test/sea/stacks"
   ]
  },
  {
   "cell_type": "markdown",
   "metadata": {},
   "source": [
    "Now process the RedEdge Images"
   ]
  },
  {
   "cell_type": "code",
   "execution_count": 28,
   "metadata": {},
   "outputs": [
    {
     "name": "stdout",
     "output_type": "stream",
     "text": [
      "Panel irradiance calculated.\n",
      "used warp dir data/20210407_duml_full_workflow_test/sea_rededge\n",
      "Aligning images. Depending on settings this can take from a few seconds to many minutes\n",
      "Finished aligning band 2\n",
      "Finished aligning band 0\n",
      "Finished aligning band 4\n",
      "Finished aligning band 3\n",
      "Finished aligning band 1\n",
      "Saving time: 0:00:15.060539\n",
      "Alignment+Saving rate: 0.66 images per second\n",
      "Finished saving images.\n",
      "exiftool -csv=\"data/20210407_duml_full_workflow_test/sunblocked_rededge/stacks/log.csv\" -overwrite_original data/20210407_duml_full_workflow_test/sunblocked_rededge/stacks\n",
      "Finished saving image metadata.\n",
      "Panel irradiance calculated.\n",
      "used warp dir data/20210407_duml_full_workflow_test/sea_rededge\n",
      "Aligning images. Depending on settings this can take from a few seconds to many minutes\n",
      "Finished aligning band 2\n",
      "Finished aligning band 0\n",
      "Finished aligning band 1\n",
      "Finished aligning band 3\n",
      "Finished aligning band 4\n",
      "Saving time: 0:00:04.473115\n",
      "Alignment+Saving rate: 0.89 images per second\n",
      "Finished saving images.\n",
      "exiftool -csv=\"data/20210407_duml_full_workflow_test/sky_rededge/stacks/log.csv\" -overwrite_original data/20210407_duml_full_workflow_test/sky_rededge/stacks\n",
      "Finished saving image metadata.\n",
      "Panel irradiance calculated.\n",
      "used warp dir data/20210407_duml_full_workflow_test/sea_rededge\n",
      "Aligning images. Depending on settings this can take from a few seconds to many minutes\n",
      "Finished aligning band 2\n",
      "Finished aligning band 0\n",
      "Finished aligning band 4\n",
      "Finished aligning band 1\n",
      "Finished aligning band 3\n",
      "Saving time: 0:00:10.543273\n",
      "Alignment+Saving rate: 0.85 images per second\n",
      "Finished saving images.\n",
      "exiftool -csv=\"data/20210407_duml_full_workflow_test/sea_rededge/stacks/log.csv\" -overwrite_original data/20210407_duml_full_workflow_test/sea_rededge/stacks\n",
      "Finished saving image metadata.\n"
     ]
    }
   ],
   "source": [
    "# to use the DLS and not the panel set this to None\n",
    "panelNames = None\n",
    "panelNames = glob.glob(os.path.join('data', '20210407_duml_full_workflow_test', 'panel_rededge', 'IMG_0003*.tif'))\n",
    "blocked_dir = os.path.join('data', '20210407_duml_full_workflow_test', 'sunblocked_rededge')\n",
    "sky_dir = os.path.join('data', '20210407_duml_full_workflow_test', 'sky_rededge')\n",
    "surface_dir = os.path.join('data', '20210407_duml_full_workflow_test', 'sea_rededge')\n",
    "\n",
    "warp_img_dir = os.path.join('data', '20210407_duml_full_workflow_test', 'sea_rededge')\n",
    "\n",
    "sunlight_blocked_out = process_micasense_subset(blocked_dir, panelNames, warp_img_dir, overwrite=False)\n",
    "sky_out = process_micasense_subset(sky_dir, panelNames, warp_img_dir, overwrite=False)\n",
    "surface_out = process_micasense_subset(surface_dir, panelNames, warp_img_dir, overwrite=False)"
   ]
  },
  {
   "cell_type": "code",
   "execution_count": 29,
   "metadata": {},
   "outputs": [
    {
     "name": "stdout",
     "output_type": "stream",
     "text": [
      "    1 directories scanned\r\n",
      "   10 image files updated\r\n"
     ]
    }
   ],
   "source": [
    "! exiftool -csv=\"data/20210407_duml_full_workflow_test/sunblocked_rededge/stacks/log.csv\" -overwrite_original data/20210407_duml_full_workflow_test/sunblocked_rededge/stacks"
   ]
  },
  {
   "cell_type": "code",
   "execution_count": 30,
   "metadata": {},
   "outputs": [
    {
     "name": "stdout",
     "output_type": "stream",
     "text": [
      "    1 directories scanned\r\n",
      "    4 image files updated\r\n"
     ]
    }
   ],
   "source": [
    "! exiftool -csv=\"data/20210407_duml_full_workflow_test/sky_rededge/stacks/log.csv\" -overwrite_original data/20210407_duml_full_workflow_test/sky_rededge/stacks"
   ]
  },
  {
   "cell_type": "code",
   "execution_count": 31,
   "metadata": {},
   "outputs": [
    {
     "name": "stdout",
     "output_type": "stream",
     "text": [
      "    1 directories scanned\r\n",
      "    9 image files updated\r\n"
     ]
    }
   ],
   "source": [
    "! exiftool -csv=\"data/20210407_duml_full_workflow_test/sea_rededge/stacks/log.csv\" -overwrite_original data/20210407_duml_full_workflow_test/sea_rededge/stacks"
   ]
  },
  {
   "cell_type": "code",
   "execution_count": 51,
   "metadata": {},
   "outputs": [
    {
     "name": "stdout",
     "output_type": "stream",
     "text": [
      "exiftool -csv=\"data/170321_duml_testing/360_test/sky/../skystacks/log.csv\" -overwrite_original data/170321_duml_testing/360_test/sky/../skystacks\n"
     ]
    },
    {
     "data": {
      "text/plain": [
       "True"
      ]
     },
     "execution_count": 51,
     "metadata": {},
     "output_type": "execute_result"
    }
   ],
   "source": [
    "skyimgset = imageset.ImageSet.from_directory(sky_dir)\n",
    "skyOutputPath = os.path.join(sky_dir,'..','skystacks')\n",
    "fullCsvPath = write_exif_csv(skyimgset, skyOutputPath)\n",
    "write_img_exif(fullCsvPath, skyOutputPath)"
   ]
  },
  {
   "cell_type": "code",
   "execution_count": 52,
   "metadata": {},
   "outputs": [
    {
     "name": "stdout",
     "output_type": "stream",
     "text": [
      "    1 directories scanned\r\n",
      "   62 image files updated\r\n"
     ]
    }
   ],
   "source": [
    "! exiftool -csv=\"data/170321_duml_testing/360_test/sky/../skystacks/log.csv\" -overwrite_original data/170321_duml_testing/360_test/sky/../skystacks"
   ]
  },
  {
   "cell_type": "code",
   "execution_count": 53,
   "metadata": {},
   "outputs": [
    {
     "name": "stdout",
     "output_type": "stream",
     "text": [
      "exiftool -csv=\"data/170321_duml_testing/360_test/sea/../seastacks/log.csv\" -overwrite_original data/170321_duml_testing/360_test/sea/../seastacks\n"
     ]
    },
    {
     "data": {
      "text/plain": [
       "True"
      ]
     },
     "execution_count": 53,
     "metadata": {},
     "output_type": "execute_result"
    }
   ],
   "source": [
    "seaimgset = imageset.ImageSet.from_directory(sea_dir)\n",
    "seaOutputPath = os.path.join(sea_dir,'..','seastacks')\n",
    "fullCsvPath = write_exif_csv(seaimgset, seaOutputPath)\n",
    "write_img_exif(fullCsvPath, seaOutputPath)"
   ]
  },
  {
   "cell_type": "code",
   "execution_count": 54,
   "metadata": {},
   "outputs": [
    {
     "name": "stdout",
     "output_type": "stream",
     "text": [
      "    1 directories scanned\r\n",
      "  317 image files updated\r\n"
     ]
    }
   ],
   "source": [
    "! exiftool -csv=\"data/170321_duml_testing/360_test/sea/../seastacks/log.csv\" -overwrite_original data/170321_duml_testing/360_test/sea/../seastacks"
   ]
  },
  {
   "cell_type": "code",
   "execution_count": null,
   "metadata": {},
   "outputs": [],
   "source": []
  },
  {
   "cell_type": "code",
   "execution_count": null,
   "metadata": {},
   "outputs": [],
   "source": []
  },
  {
   "cell_type": "code",
   "execution_count": 36,
   "metadata": {},
   "outputs": [
    {
     "name": "stdout",
     "output_type": "stream",
     "text": [
      "    1 directories scanned\r\n",
      "   62 image files updated\r\n"
     ]
    }
   ],
   "source": [
    "! exiftool -csv=\"data/170321_duml_testing/360_test/sky/../skystacks/log.csv\" -overwrite_original data/170321_duml_testing/360_test/sky/../skystacks"
   ]
  },
  {
   "cell_type": "code",
   "execution_count": 37,
   "metadata": {},
   "outputs": [
    {
     "name": "stdout",
     "output_type": "stream",
     "text": [
      "    1 directories scanned\r\n",
      "  317 image files updated\r\n"
     ]
    }
   ],
   "source": [
    "! exiftool -csv=\"data/170321_duml_testing/360_test/sea/../seastacks/log.csv\" -overwrite_original data/170321_duml_testing/360_test/sea/../seastacks"
   ]
  }
 ],
 "metadata": {
  "kernelspec": {
   "display_name": "Python 3",
   "language": "python",
   "name": "python3"
  },
  "language_info": {
   "codemirror_mode": {
    "name": "ipython",
    "version": 3
   },
   "file_extension": ".py",
   "mimetype": "text/x-python",
   "name": "python",
   "nbconvert_exporter": "python",
   "pygments_lexer": "ipython3",
   "version": "3.7.8"
  }
 },
 "nbformat": 4,
 "nbformat_minor": 4
}
