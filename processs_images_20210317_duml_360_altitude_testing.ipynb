{
 "cells": [
  {
   "cell_type": "markdown",
   "metadata": {},
   "source": [
    "## Processing Ocean Color Imagery - Process Micasense Images"
   ]
  },
  {
   "cell_type": "markdown",
   "metadata": {},
   "source": [
    "Pull in all images and process with micasense tools\n",
    "    normalize and align and whatnot\n",
    "    put these into functions and clean up\n",
    "    also visualize along the way and look at distributions to think about whether or not they're legitimate\n",
    "    write out\n",
    "    \n",
    "Pull in all images as modified and metadata with specific functions\n",
    "    Visualize for issues and shadows and bright spots and locations\n",
    "    correct for sky radiance\n",
    "    visualize the distributions of both sky (clouds) and sea\n",
    "    look at the variability of spectra both for specific pixels and across nearby images\n",
    "    filter for orientation and location and issues\n",
    "\n",
    "take the water leaving spectra and convert to chla as well as other future products and just intro general analysis of spectra\n",
    "    produce a csv or .shp or images of ocean color products \n",
    "    "
   ]
  },
  {
   "cell_type": "code",
   "execution_count": 1,
   "metadata": {},
   "outputs": [],
   "source": [
    "%load_ext autoreload\n",
    "%autoreload 2"
   ]
  },
  {
   "cell_type": "code",
   "execution_count": 8,
   "metadata": {},
   "outputs": [],
   "source": [
    "from ipywidgets import FloatProgress, Layout\n",
    "from IPython.display import display\n",
    "from micasense import imageset as imageset\n",
    "from micasense import capture as capture\n",
    "import multiprocessing\n",
    "import glob, shutil, os\n",
    "\n",
    "import cv2\n",
    "import numpy as np\n",
    "import matplotlib.pyplot as plt\n",
    "\n",
    "\n",
    "import micasense.imageutils as imageutils\n",
    "import micasense.plotutils as plotutils\n",
    "\n",
    "import exiftool\n",
    "import datetime\n",
    "\n",
    "import subprocess\n",
    "import math\n",
    "\n",
    "from utils import *\n",
    "from georeg import *"
   ]
  },
  {
   "cell_type": "markdown",
   "metadata": {},
   "source": [
    "### Run the process"
   ]
  },
  {
   "cell_type": "markdown",
   "metadata": {},
   "source": [
    "#### Now the real processing code"
   ]
  },
  {
   "cell_type": "code",
   "execution_count": 3,
   "metadata": {},
   "outputs": [
    {
     "name": "stdout",
     "output_type": "stream",
     "text": [
      "000  002       gpslog.dat   panel\t  varying_altitude\r\n",
      "001  diag.dat  hostlog.dat  paramlog.dat\r\n"
     ]
    }
   ],
   "source": [
    "! ls data/20210317_duml_360_altitude_testing/altitude_test"
   ]
  },
  {
   "cell_type": "code",
   "execution_count": 6,
   "metadata": {
    "scrolled": true
   },
   "outputs": [
    {
     "data": {
      "text/plain": [
       "['data/20210317_duml_360_altitude_testing/altitude_test/panel/IMG_0002_5.tif',\n",
       " 'data/20210317_duml_360_altitude_testing/altitude_test/panel/IMG_0002_2.tif',\n",
       " 'data/20210317_duml_360_altitude_testing/altitude_test/panel/IMG_0002_6.tif',\n",
       " 'data/20210317_duml_360_altitude_testing/altitude_test/panel/IMG_0002_4.tif',\n",
       " 'data/20210317_duml_360_altitude_testing/altitude_test/panel/IMG_0002_3.tif',\n",
       " 'data/20210317_duml_360_altitude_testing/altitude_test/panel/IMG_0002_1.tif']"
      ]
     },
     "execution_count": 6,
     "metadata": {},
     "output_type": "execute_result"
    }
   ],
   "source": [
    "glob.glob(os.path.join('data', '20210317_duml_360_altitude_testing', 'altitude_test', 'panel', 'IMG_0002*.tif'))"
   ]
  },
  {
   "cell_type": "markdown",
   "metadata": {},
   "source": [
    "I'm using the panel from the flight 1 hour before this one, the one we took for this flight was too close and unusable. This day was totally overcast and not changing much so this should be appropriate."
   ]
  },
  {
   "cell_type": "code",
   "execution_count": 11,
   "metadata": {},
   "outputs": [
    {
     "name": "stdout",
     "output_type": "stream",
     "text": [
      "Panel irradiance calculated.\n",
      "used warp dir data/20210317_duml_360_altitude_testing/altitude_test/varying_altitude/align_img\n",
      "Aligning images. Depending on settings this can take from a few seconds to many minutes\n",
      "Finished aligning band 0\n",
      "Finished aligning band 2\n",
      "Finished aligning band 3\n",
      "Finished aligning band 1\n",
      "Finished aligning band 4\n",
      "Saving time: 0:17:03.891050\n",
      "Alignment+Saving rate: 0.33 images per second\n",
      "Finished saving images.\n",
      "exiftool -csv=\"data/20210317_duml_360_altitude_testing/altitude_test/varying_altitude/stacks/log.csv\" -overwrite_original data/20210317_duml_360_altitude_testing/altitude_test/varying_altitude/stacks\n",
      "Finished saving image metadata.\n"
     ]
    }
   ],
   "source": [
    "#panelNames = None\n",
    "panelNames = glob.glob(os.path.join('data', '20210317_duml_360_altitude_testing', 'altitude_test', 'panel', 'IMG_0002_*.tif'))\n",
    "alt_dir = os.path.join('data', '20210317_duml_360_altitude_testing', 'altitude_test', 'varying_altitude')\n",
    "\n",
    "warp_img_dir = os.path.join('data', '20210317_duml_360_altitude_testing', 'altitude_test', 'varying_altitude', 'align_img')\n",
    "\n",
    "altitude_out = process_micasense_subset(alt_dir, panelNames, warp_img_dir, overwrite=False)"
   ]
  },
  {
   "cell_type": "code",
   "execution_count": 12,
   "metadata": {},
   "outputs": [
    {
     "name": "stdout",
     "output_type": "stream",
     "text": [
      "    1 directories scanned\r\n",
      "  338 image files updated\r\n"
     ]
    }
   ],
   "source": [
    "! exiftool -csv=\"data/20210317_duml_360_altitude_testing/altitude_test/varying_altitude/stacks/log.csv\" -overwrite_original data/20210317_duml_360_altitude_testing/altitude_test/varying_altitude/stacks"
   ]
  },
  {
   "cell_type": "code",
   "execution_count": null,
   "metadata": {},
   "outputs": [],
   "source": []
  }
 ],
 "metadata": {
  "kernelspec": {
   "display_name": "Python 3",
   "language": "python",
   "name": "python3"
  },
  "language_info": {
   "codemirror_mode": {
    "name": "ipython",
    "version": 3
   },
   "file_extension": ".py",
   "mimetype": "text/x-python",
   "name": "python",
   "nbconvert_exporter": "python",
   "pygments_lexer": "ipython3",
   "version": "3.7.8"
  }
 },
 "nbformat": 4,
 "nbformat_minor": 4
}
