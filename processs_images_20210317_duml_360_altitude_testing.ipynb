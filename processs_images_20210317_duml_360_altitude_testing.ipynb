{
 "cells": [
  {
   "cell_type": "markdown",
   "metadata": {},
   "source": [
    "## Processing Ocean Color Imagery - Process Micasense Images"
   ]
  },
  {
   "cell_type": "markdown",
   "metadata": {},
   "source": [
    "Pull in all images and process with micasense tools\n",
    "    normalize and align and whatnot\n",
    "    put these into functions and clean up\n",
    "    also visualize along the way and look at distributions to think about whether or not they're legitimate\n",
    "    write out\n",
    "    \n",
    "Pull in all images as modified and metadata with specific functions\n",
    "    Visualize for issues and shadows and bright spots and locations\n",
    "    correct for sky radiance\n",
    "    visualize the distributions of both sky (clouds) and sea\n",
    "    look at the variability of spectra both for specific pixels and across nearby images\n",
    "    filter for orientation and location and issues\n",
    "\n",
    "take the water leaving spectra and convert to chla as well as other future products and just intro general analysis of spectra\n",
    "    produce a csv or .shp or images of ocean color products \n",
    "    "
   ]
  },
  {
   "cell_type": "code",
   "execution_count": 1,
   "metadata": {},
   "outputs": [],
   "source": [
    "%load_ext autoreload\n",
    "%autoreload 2"
   ]
  },
  {
   "cell_type": "code",
   "execution_count": 2,
   "metadata": {},
   "outputs": [],
   "source": [
    "from ipywidgets import FloatProgress, Layout\n",
    "from IPython.display import display\n",
    "from micasense import imageset as imageset\n",
    "from micasense import capture as capture\n",
    "import multiprocessing\n",
    "import glob, shutil, os\n",
    "\n",
    "import cv2\n",
    "import numpy as np\n",
    "import matplotlib.pyplot as plt\n",
    "\n",
    "\n",
    "import micasense.imageutils as imageutils\n",
    "import micasense.plotutils as plotutils\n",
    "\n",
    "import exiftool\n",
    "import datetime\n",
    "\n",
    "import subprocess\n",
    "import math\n",
    "\n",
    "from utils import *\n",
    "from georeg import *"
   ]
  },
  {
   "cell_type": "markdown",
   "metadata": {},
   "source": [
    "### Run the process"
   ]
  },
  {
   "cell_type": "markdown",
   "metadata": {},
   "source": [
    "#### Now the real processing code"
   ]
  },
  {
   "cell_type": "code",
   "execution_count": 3,
   "metadata": {},
   "outputs": [
    {
     "name": "stdout",
     "output_type": "stream",
     "text": [
      "000  diag.dat\t  IMG_0100_1.txt  panel\t\tthumbnails\r\n",
      "001  gpslog.dat   IMG_0105_1.txt  paramlog.dat\tvarying_altitude\r\n",
      "002  hostlog.dat  new.txt\t  stacks\txy_coords\r\n"
     ]
    }
   ],
   "source": [
    "! ls data/20210317_duml_360_altitude_testing/altitude_test"
   ]
  },
  {
   "cell_type": "code",
   "execution_count": 4,
   "metadata": {
    "scrolled": true
   },
   "outputs": [
    {
     "data": {
      "text/plain": [
       "['data/20210317_duml_360_altitude_testing/altitude_test/panel/IMG_0002_5.tif',\n",
       " 'data/20210317_duml_360_altitude_testing/altitude_test/panel/IMG_0002_2.tif',\n",
       " 'data/20210317_duml_360_altitude_testing/altitude_test/panel/IMG_0002_6.tif',\n",
       " 'data/20210317_duml_360_altitude_testing/altitude_test/panel/IMG_0002_4.tif',\n",
       " 'data/20210317_duml_360_altitude_testing/altitude_test/panel/IMG_0002_3.tif',\n",
       " 'data/20210317_duml_360_altitude_testing/altitude_test/panel/IMG_0002_1.tif']"
      ]
     },
     "execution_count": 4,
     "metadata": {},
     "output_type": "execute_result"
    }
   ],
   "source": [
    "glob.glob(os.path.join('data', '20210317_duml_360_altitude_testing', 'altitude_test', 'panel', 'IMG_0002*.tif'))"
   ]
  },
  {
   "cell_type": "markdown",
   "metadata": {},
   "source": [
    "I'm using the panel from the flight 1 hour before this one, the one we took for this flight was too close and unusable. This day was totally overcast and not changing much so this should be appropriate."
   ]
  },
  {
   "cell_type": "code",
   "execution_count": 5,
   "metadata": {},
   "outputs": [
    {
     "name": "stdout",
     "output_type": "stream",
     "text": [
      "Not using panel irradiance.\n",
      "used warp dir data/20210317_duml_360_altitude_testing/altitude_test/varying_altitude/align_img\n",
      "Aligning images. Depending on settings this can take from a few seconds to many minutes\n",
      "Finished aligning band 0\n",
      "Finished aligning band 2\n",
      "Finished aligning band 3\n",
      "Finished aligning band 4\n",
      "Finished aligning band 1\n",
      "Saving time: 0:17:27.433793\n",
      "Alignment+Saving rate: 0.32 images per second\n",
      "Finished saving images.\n",
      "exiftool -csv=\"data/20210317_duml_360_altitude_testing/altitude_test/varying_altitude/stacks/log.csv\" -overwrite_original data/20210317_duml_360_altitude_testing/altitude_test/varying_altitude/stacks\n",
      "Finished saving image metadata.\n"
     ]
    }
   ],
   "source": [
    "panelNames = None\n",
    "#panelNames = glob.glob(os.path.join('data', '20210317_duml_360_altitude_testing', 'altitude_test', 'panel', 'IMG_0002_*.tif'))\n",
    "alt_dir = os.path.join('data', '20210317_duml_360_altitude_testing', 'altitude_test', 'varying_altitude')\n",
    "\n",
    "warp_img_dir = os.path.join('data', '20210317_duml_360_altitude_testing', 'altitude_test', 'varying_altitude', 'align_img')\n",
    "\n",
    "altitude_out = process_micasense_subset(alt_dir, panelNames, warp_img_dir, overwrite=False)"
   ]
  },
  {
   "cell_type": "code",
   "execution_count": 6,
   "metadata": {},
   "outputs": [
    {
     "name": "stdout",
     "output_type": "stream",
     "text": [
      "    1 directories scanned\r\n",
      "  338 image files updated\r\n"
     ]
    }
   ],
   "source": [
    "! exiftool -csv=\"data/20210317_duml_360_altitude_testing/altitude_test/varying_altitude/stacks/log.csv\" -overwrite_original data/20210317_duml_360_altitude_testing/altitude_test/varying_altitude/stacks"
   ]
  },
  {
   "cell_type": "code",
   "execution_count": null,
   "metadata": {},
   "outputs": [],
   "source": [
    "Comparing the DLS irradiance to the panel irradiance"
   ]
  },
  {
   "cell_type": "code",
   "execution_count": 12,
   "metadata": {},
   "outputs": [
    {
     "ename": "AttributeError",
     "evalue": "'ImageSet' object has no attribute 'images'",
     "output_type": "error",
     "traceback": [
      "\u001b[0;31m---------------------------------------------------------------------------\u001b[0m",
      "\u001b[0;31mAttributeError\u001b[0m                            Traceback (most recent call last)",
      "\u001b[0;32m<ipython-input-12-9dc8fe7eef7c>\u001b[0m in \u001b[0;36m<module>\u001b[0;34m\u001b[0m\n\u001b[0;32m----> 1\u001b[0;31m \u001b[0mimgset\u001b[0m\u001b[0;34m.\u001b[0m\u001b[0mimages\u001b[0m\u001b[0;34m\u001b[0m\u001b[0;34m\u001b[0m\u001b[0m\n\u001b[0m",
      "\u001b[0;31mAttributeError\u001b[0m: 'ImageSet' object has no attribute 'images'"
     ]
    }
   ],
   "source": [
    "imgset.images"
   ]
  },
  {
   "cell_type": "code",
   "execution_count": 9,
   "metadata": {},
   "outputs": [],
   "source": [
    "imgset = imageset.ImageSet.from_directory(alt_dir)"
   ]
  },
  {
   "cell_type": "code",
   "execution_count": 24,
   "metadata": {},
   "outputs": [
    {
     "data": {
      "text/plain": [
       "0.001315877"
      ]
     },
     "execution_count": 24,
     "metadata": {},
     "output_type": "execute_result"
    }
   ],
   "source": [
    "imgset.captures[0].images[0].exposure_time"
   ]
  },
  {
   "cell_type": "code",
   "execution_count": 28,
   "metadata": {},
   "outputs": [
    {
     "data": {
      "text/plain": [
       "(0.0, 0.002)"
      ]
     },
     "execution_count": 28,
     "metadata": {},
     "output_type": "execute_result"
    },
    {
     "data": {
      "image/png": "[encoded data removed]",
      "text/plain": [
       "<Figure size 432x288 with 1 Axes>"
      ]
     },
     "metadata": {
      "needs_background": "light"
     },
     "output_type": "display_data"
    }
   ],
   "source": [
    "plt.plot(exposures)\n",
    "plt.ylim(0,0.002)"
   ]
  },
  {
   "cell_type": "code",
   "execution_count": 64,
   "metadata": {},
   "outputs": [],
   "source": [
    "dls_ed = []\n",
    "exposures = []\n",
    "gains = []\n",
    "for cap in imgset.captures:\n",
    "    if len(cap.dls_irradiance()) == 6:\n",
    "        dls_ed.append(np.array(cap.dls_irradiance()))\n",
    "        exp = []\n",
    "        gain_cap = []\n",
    "        for img in cap.images: \n",
    "            exp.append(img.exposure_time)\n",
    "            gain_cap.append(img.gain)\n",
    "        exposures.append(exp)\n",
    "        gains.append(gain_cap)\n",
    "        \n",
    "exposures = np.array(exposures)\n",
    "gains = np.array(gains)\n",
    "dls_ed = np.array(dls_ed)"
   ]
  },
  {
   "cell_type": "code",
   "execution_count": 94,
   "metadata": {},
   "outputs": [
    {
     "name": "stderr",
     "output_type": "stream",
     "text": [
      "/home/clifgray/anaconda3/envs/micasense/lib/python3.7/site-packages/ipykernel_launcher.py:27: UserWarning: Matplotlib is currently using module://ipykernel.pylab.backend_inline, which is a non-GUI backend, so cannot show the figure.\n",
      "/home/clifgray/anaconda3/envs/micasense/lib/python3.7/site-packages/ipykernel_launcher.py:27: UserWarning: Matplotlib is currently using module://ipykernel.pylab.backend_inline, which is a non-GUI backend, so cannot show the figure.\n",
      "/home/clifgray/anaconda3/envs/micasense/lib/python3.7/site-packages/ipykernel_launcher.py:27: UserWarning: Matplotlib is currently using module://ipykernel.pylab.backend_inline, which is a non-GUI backend, so cannot show the figure.\n",
      "/home/clifgray/anaconda3/envs/micasense/lib/python3.7/site-packages/ipykernel_launcher.py:27: UserWarning: Matplotlib is currently using module://ipykernel.pylab.backend_inline, which is a non-GUI backend, so cannot show the figure.\n",
      "/home/clifgray/anaconda3/envs/micasense/lib/python3.7/site-packages/ipykernel_launcher.py:27: UserWarning: Matplotlib is currently using module://ipykernel.pylab.backend_inline, which is a non-GUI backend, so cannot show the figure.\n"
     ]
    },
    {
     "data": {
      "image/png": "[encoded data removed]",
      "text/plain": [
       "<Figure size 864x1296 with 15 Axes>"
      ]
     },
     "metadata": {
      "needs_background": "light"
     },
     "output_type": "display_data"
    }
   ],
   "source": [
    "band_names = ['blue', 'green', 'red', 'nir', 'red edge']\n",
    "\n",
    "fig, ax = plt.subplots(5,1, figsize=(12,18))\n",
    "\n",
    "for i in range(5):\n",
    "    ax[i].plot(exposures[100:280,i], color='green')\n",
    "    ax[i].set_ylim(0,.002)\n",
    "    ax2 = ax[i].twinx()\n",
    "    ax2.plot(gains[100:280,i], color='blue')\n",
    "    ax2.set_ylim(0,8.2)\n",
    "    ax3 = ax[i].twinx()\n",
    "    ax3.plot(dls_ed[100:280,i], color='red')\n",
    "#     ax3.set_ylim(.22,.5)\n",
    "    ax3.spines['right'].set_position(('outward', 60))\n",
    "    \n",
    "    ax[i].set_ylabel('exposure')\n",
    "    ax2.set_ylabel('gain')\n",
    "    ax3.set_ylabel('DLS Reading')\n",
    "    \n",
    "    ax[i].yaxis.label.set_color('green')\n",
    "    ax2.yaxis.label.set_color('blue')\n",
    "    ax3.yaxis.label.set_color('red')\n",
    "    \n",
    "    ax[i].set_title(band_names[i])\n",
    "    fig.tight_layout()\n",
    "    fig.savefig('gain_exposure_dls.png',dpi=300)\n",
    "    fig.show()\n",
    "#     "
   ]
  },
  {
   "cell_type": "code",
   "execution_count": null,
   "metadata": {},
   "outputs": [],
   "source": [
    "dls_ed = []\n",
    "gains = []\n",
    "for cap in imgset.captures:\n",
    "    if len(cap.dls_irradiance()) == 6:\n",
    "        dls_ed.append(np.array(cap.dls_irradiance()))\n",
    "        exp = []\n",
    "        for img in cap.images: \n",
    "            exp.append(img.gain)\n",
    "        exposures.append(exp)\n",
    "        \n",
    "exposures = np.array(exposures)"
   ]
  },
  {
   "cell_type": "code",
   "execution_count": 70,
   "metadata": {},
   "outputs": [
    {
     "data": {
      "text/plain": [
       "[array([0.50339357, 0.47135883, 0.40823212, 0.24915264, 0.30185853,\n",
       "        0.        ]),\n",
       " array([0.50403024, 0.4719828 , 0.40879321, 0.24949901, 0.30227274,\n",
       "        0.        ]),\n",
       " array([0.50492856, 0.47285625, 0.40957722, 0.24997585, 0.30284585,\n",
       "        0.        ]),\n",
       " array([0.50560016, 0.47349255, 0.41013591, 0.25031545, 0.30325679,\n",
       "        0.        ]),\n",
       " array([0.5064043 , 0.47427232, 0.41083954, 0.2507489 , 0.30377827,\n",
       "        0.        ]),\n",
       " array([0.50732001, 0.47513321, 0.41160971, 0.25121133, 0.30434016,\n",
       "        0.        ]),\n",
       " array([0.5080523 , 0.47583753, 0.41224494, 0.25159343, 0.30480421,\n",
       "        0.        ]),\n",
       " array([0.50893787, 0.47670735, 0.41303743, 0.25207533, 0.3053743 ,\n",
       "        0.        ]),\n",
       " array([0.50965088, 0.47739948, 0.41365331, 0.2524516 , 0.30582922,\n",
       "        0.        ]),\n",
       " array([0.51042584, 0.47814337, 0.41432381, 0.25286475, 0.30633574,\n",
       "        0.        ]),\n",
       " array([0.51223116, 0.47987884, 0.41589886, 0.25381591, 0.3074857 ,\n",
       "        0.        ]),\n",
       " array([0.51292573, 0.48058011, 0.41655175, 0.25421635, 0.30795852,\n",
       "        0.        ]),\n",
       " array([0.51345248, 0.48108155, 0.41699544, 0.25447819, 0.30827502,\n",
       "        0.        ]),\n",
       " array([0.51397683, 0.48159932, 0.41746908, 0.25476099, 0.30861276,\n",
       "        0.        ]),\n",
       " array([0.51451603, 0.48214478, 0.41797102, 0.25506831, 0.30897916,\n",
       "        0.        ]),\n",
       " array([0.51499222, 0.48263253, 0.41840102, 0.25533959, 0.30929763,\n",
       "        0.        ]),\n",
       " array([0.51543569, 0.48309316, 0.41881099, 0.25559456, 0.3095922 ,\n",
       "        0.        ]),\n",
       " array([0.51571149, 0.48338485, 0.41907133, 0.25575606, 0.30978052,\n",
       "        0.        ]),\n",
       " array([0.5159868 , 0.48368763, 0.41935325, 0.2559306 , 0.30998064,\n",
       "        0.        ]),\n",
       " array([0.51610263, 0.48382869, 0.41949308, 0.2560137 , 0.31006963,\n",
       "        0.        ]),\n",
       " array([0.51622047, 0.48401907, 0.41969356, 0.25612722, 0.31017672,\n",
       "        0.        ]),\n",
       " array([0.51625467, 0.48411077, 0.41978961, 0.25618831, 0.31022206,\n",
       "        0.        ]),\n",
       " array([0.51606969, 0.48395359, 0.41966251, 0.25610871, 0.31011561,\n",
       "        0.        ]),\n",
       " array([0.51587613, 0.483808  , 0.41954695, 0.25604124, 0.31001816,\n",
       "        0.        ]),\n",
       " array([0.5155993 , 0.48358218, 0.41935547, 0.25592424, 0.30985663,\n",
       "        0.        ]),\n",
       " array([0.51527774, 0.48332485, 0.41915547, 0.25579328, 0.30967263,\n",
       "        0.        ]),\n",
       " array([0.51486634, 0.48293326, 0.41880681, 0.25557717, 0.3094109 ,\n",
       "        0.        ]),\n",
       " array([0.51434533, 0.48244306, 0.41837676, 0.25531488, 0.30908956,\n",
       "        0.        ]),\n",
       " array([0.51384977, 0.48199422, 0.41797772, 0.25507518, 0.308796  ,\n",
       "        0.        ]),\n",
       " array([0.51322751, 0.48142066, 0.41747391, 0.25476568, 0.3084183 ,\n",
       "        0.        ]),\n",
       " array([0.51167788, 0.47996499, 0.41619529, 0.25398325, 0.30746804,\n",
       "        0.        ]),\n",
       " array([0.51104198, 0.47936046, 0.41565653, 0.25365504, 0.30707009,\n",
       "        0.        ]),\n",
       " array([0.51028417, 0.47864451, 0.41502825, 0.25327359, 0.306606  ,\n",
       "        0.        ]),\n",
       " array([0.50961033, 0.47801772, 0.41448221, 0.25293494, 0.30618944,\n",
       "        0.        ]),\n",
       " array([0.50910623, 0.47753048, 0.41404444, 0.25267283, 0.30586991,\n",
       "        0.        ]),\n",
       " array([0.50836982, 0.47679613, 0.41335829, 0.25224956, 0.30536272,\n",
       "        0.        ]),\n",
       " array([0.5079911 , 0.47643521, 0.41304185, 0.25206497, 0.30513558,\n",
       "        0.        ]),\n",
       " array([0.50742484, 0.47590684, 0.41258947, 0.25179158, 0.3047967 ,\n",
       "        0.        ]),\n",
       " array([0.50692429, 0.47543262, 0.41215442, 0.25153593, 0.30448648,\n",
       "        0.        ]),\n",
       " array([0.50625422, 0.47481254, 0.41161064, 0.25120004, 0.30407021,\n",
       "        0.        ]),\n",
       " array([0.5051748 , 0.47380622, 0.41068637, 0.25065359, 0.30339323,\n",
       "        0.        ]),\n",
       " array([0.50493234, 0.47359389, 0.41051046, 0.25055331, 0.30325158,\n",
       "        0.        ]),\n",
       " array([0.50435667, 0.47302076, 0.409972  , 0.25023141, 0.30287525,\n",
       "        0.        ]),\n",
       " array([0.50405476, 0.4727365 , 0.40970857, 0.25007553, 0.30268482,\n",
       "        0.        ]),\n",
       " array([0.50372372, 0.47246933, 0.40948623, 0.24994399, 0.30249995,\n",
       "        0.        ]),\n",
       " array([0.50349373, 0.47228015, 0.40933191, 0.24985183, 0.30237088,\n",
       "        0.        ]),\n",
       " array([0.50328196, 0.47209333, 0.40916934, 0.24975689, 0.30225508,\n",
       "        0.        ]),\n",
       " array([0.50310851, 0.47197053, 0.40909404, 0.24971022, 0.30218387,\n",
       "        0.        ]),\n",
       " array([0.50297954, 0.47187297, 0.40901576, 0.24967069, 0.3021236 ,\n",
       "        0.        ]),\n",
       " array([0.50284411, 0.47176171, 0.40893479, 0.24962549, 0.30206073,\n",
       "        0.        ]),\n",
       " array([0.50238792, 0.47133921, 0.40856812, 0.24941024, 0.30181041,\n",
       "        0.        ]),\n",
       " array([0.50225109, 0.47120736, 0.40845509, 0.24934697, 0.30174569,\n",
       "        0.        ]),\n",
       " array([0.50206951, 0.47102616, 0.4082892 , 0.24925129, 0.30164139,\n",
       "        0.        ]),\n",
       " array([0.50190863, 0.47084708, 0.40812356, 0.24915066, 0.3015334 ,\n",
       "        0.        ]),\n",
       " array([0.50172626, 0.4706641 , 0.40795278, 0.24905375, 0.30142072,\n",
       "        0.        ]),\n",
       " array([0.50159853, 0.47054038, 0.40786427, 0.24899671, 0.30136268,\n",
       "        0.        ]),\n",
       " array([0.50145849, 0.4703781 , 0.40771272, 0.24889978, 0.30126409,\n",
       "        0.        ]),\n",
       " array([0.50124647, 0.47014829, 0.4075004 , 0.24876896, 0.30112185,\n",
       "        0.        ]),\n",
       " array([0.50098356, 0.46988764, 0.40727542, 0.24862832, 0.30096125,\n",
       "        0.        ]),\n",
       " array([0.50079143, 0.46969832, 0.4071102 , 0.24852558, 0.30084304,\n",
       "        0.        ]),\n",
       " array([0.50036821, 0.46931948, 0.40677367, 0.24831629, 0.30057385,\n",
       "        0.        ]),\n",
       " array([0.50024683, 0.46924778, 0.40673494, 0.24828607, 0.30051029,\n",
       "        0.        ]),\n",
       " array([0.50011998, 0.46916734, 0.40668386, 0.24824993, 0.30044366,\n",
       "        0.        ]),\n",
       " array([0.50003347, 0.46912968, 0.40668535, 0.24824833, 0.30042327,\n",
       "        0.        ]),\n",
       " array([0.49985709, 0.46897207, 0.40654428, 0.24816351, 0.3003248 ,\n",
       "        0.        ]),\n",
       " array([0.49968016, 0.46881635, 0.40641864, 0.24807945, 0.30022171,\n",
       "        0.        ]),\n",
       " array([0.49951972, 0.46868417, 0.40633374, 0.24801221, 0.30012975,\n",
       "        0.        ]),\n",
       " array([0.49940838, 0.46858546, 0.40624931, 0.24796388, 0.3000711 ,\n",
       "        0.        ]),\n",
       " array([0.49924077, 0.46843435, 0.40612374, 0.24788835, 0.29998264,\n",
       "        0.        ]),\n",
       " array([0.49908703, 0.46827698, 0.40597266, 0.24779275, 0.29987405,\n",
       "        0.        ]),\n",
       " array([0.4987082 , 0.46791039, 0.40563732, 0.24760029, 0.29964954,\n",
       "        0.        ]),\n",
       " array([0.49847399, 0.46770577, 0.40547493, 0.24749538, 0.29951962,\n",
       "        0.        ]),\n",
       " array([0.49826605, 0.46748062, 0.40525657, 0.24736049, 0.29936884,\n",
       "        0.        ]),\n",
       " array([0.49802512, 0.46725746, 0.40506725, 0.24724026, 0.29922245,\n",
       "        0.        ]),\n",
       " array([0.49772696, 0.4670017 , 0.40486163, 0.2471156 , 0.29906446,\n",
       "        0.        ]),\n",
       " array([0.49744423, 0.46673201, 0.4046205 , 0.24696774, 0.29888967,\n",
       "        0.        ]),\n",
       " array([0.49719614, 0.4665033 , 0.40441944, 0.24685502, 0.29875159,\n",
       "        0.        ]),\n",
       " array([0.4968859 , 0.4662025 , 0.40414438, 0.24669463, 0.29855609,\n",
       "        0.        ]),\n",
       " array([0.49652288, 0.46585996, 0.40382655, 0.24650629, 0.29832832,\n",
       "        0.        ]),\n",
       " array([0.49612829, 0.46548508, 0.4034858 , 0.24630164, 0.29808216,\n",
       "        0.        ]),\n",
       " array([0.49515019, 0.46453702, 0.40263061, 0.24578447, 0.29746464,\n",
       "        0.        ]),\n",
       " array([0.49471588, 0.46412257, 0.4022682 , 0.24555515, 0.29719153,\n",
       "        0.        ]),\n",
       " array([0.49427822, 0.4637103 , 0.40190314, 0.2453357 , 0.29692157,\n",
       "        0.        ]),\n",
       " array([0.49389176, 0.46333775, 0.40157064, 0.24512932, 0.29667662,\n",
       "        0.        ]),\n",
       " array([0.49349424, 0.46295654, 0.40122891, 0.24492181, 0.29642356,\n",
       "        0.        ]),\n",
       " array([0.49305151, 0.46252228, 0.40083062, 0.24468264, 0.29614244,\n",
       "        0.        ]),\n",
       " array([0.4926172 , 0.46212393, 0.40048316, 0.24446963, 0.29588064,\n",
       "        0.        ]),\n",
       " array([0.4921425 , 0.46171046, 0.40014947, 0.24426088, 0.29561513,\n",
       "        0.        ]),\n",
       " array([0.49170073, 0.46129225, 0.39977272, 0.24403244, 0.29533928,\n",
       "        0.        ]),\n",
       " array([0.49120119, 0.4608464 , 0.39938381, 0.24380275, 0.29505907,\n",
       "        0.        ]),\n",
       " array([0.48996043, 0.45971985, 0.3983844 , 0.24320611, 0.29430499,\n",
       "        0.        ]),\n",
       " array([0.48943646, 0.45922279, 0.39793593, 0.24293524, 0.29397304,\n",
       "        0.        ]),\n",
       " array([0.48894619, 0.4587596 , 0.39752602, 0.24268985, 0.29367235,\n",
       "        0.        ]),\n",
       " array([0.48841912, 0.45825271, 0.39706582, 0.24241331, 0.2933402 ,\n",
       "        0.        ]),\n",
       " array([0.48787375, 0.45774176, 0.39661229, 0.24214236, 0.29301479,\n",
       "        0.        ]),\n",
       " array([0.48735288, 0.45724689, 0.39617884, 0.24187959, 0.2926978 ,\n",
       "        0.        ]),\n",
       " array([0.48679303, 0.45671761, 0.39570321, 0.24159321, 0.2923534 ,\n",
       "        0.        ]),\n",
       " array([0.48624336, 0.45616044, 0.3951754 , 0.24127655, 0.2919817 ,\n",
       "        0.        ]),\n",
       " array([0.48566615, 0.45562575, 0.39471475, 0.24099976, 0.29164547,\n",
       "        0.        ]),\n",
       " array([0.48502869, 0.45502589, 0.39419385, 0.24067423, 0.29125131,\n",
       "        0.        ]),\n",
       " array([0.48364709, 0.45369855, 0.39303313, 0.23994602, 0.29035913,\n",
       "        0.        ]),\n",
       " array([0.48313103, 0.45320372, 0.3925858 , 0.23967775, 0.29003345,\n",
       "        0.        ]),\n",
       " array([0.48263981, 0.45275043, 0.39218417, 0.2394388 , 0.28974297,\n",
       "        0.        ]),\n",
       " array([0.48221013, 0.45235169, 0.39182264, 0.23922689, 0.28948703,\n",
       "        0.        ]),\n",
       " array([0.48183503, 0.45197828, 0.39146022, 0.23901732, 0.28924374,\n",
       "        0.        ]),\n",
       " array([0.48140741, 0.45157151, 0.39110772, 0.23880075, 0.28898289,\n",
       "        0.        ]),\n",
       " array([0.4809144 , 0.45108833, 0.39066389, 0.23853338, 0.28867265,\n",
       "        0.        ]),\n",
       " array([0.48045493, 0.45066181, 0.39028502, 0.23831037, 0.28840187,\n",
       "        0.        ]),\n",
       " array([0.47998652, 0.45022254, 0.38991204, 0.2380757 , 0.28811309,\n",
       "        0.        ]),\n",
       " array([0.47950944, 0.44975957, 0.38948631, 0.23781996, 0.28780541,\n",
       "        0.        ]),\n",
       " array([0.47841486, 0.44870322, 0.38852624, 0.23724225, 0.28711431,\n",
       "        0.        ]),\n",
       " array([0.47802376, 0.44834215, 0.38820416, 0.2370576 , 0.28689227,\n",
       "        0.        ]),\n",
       " array([0.47765523, 0.44799453, 0.38789017, 0.23687495, 0.2866774 ,\n",
       "        0.        ]),\n",
       " array([0.4771931 , 0.44756491, 0.38751313, 0.23664175, 0.28638282,\n",
       "        0.        ]),\n",
       " array([0.47681901, 0.44722428, 0.38722227, 0.23646479, 0.28616695,\n",
       "        0.        ]),\n",
       " array([0.47639167, 0.44682985, 0.38688558, 0.23625931, 0.28591882,\n",
       "        0.        ]),\n",
       " array([0.47598436, 0.44642486, 0.38651275, 0.2360296 , 0.28564967,\n",
       "        0.        ]),\n",
       " array([0.47557161, 0.4460326 , 0.38617083, 0.2358146 , 0.28538843,\n",
       "        0.        ]),\n",
       " array([0.47518699, 0.44566225, 0.38584686, 0.23561392, 0.28514576,\n",
       "        0.        ]),\n",
       " array([0.47475062, 0.44525458, 0.38550177, 0.23539661, 0.2848745 ,\n",
       "        0.        ]),\n",
       " array([0.47372358, 0.44429428, 0.38466318, 0.23488183, 0.28425084,\n",
       "        0.        ]),\n",
       " array([0.47328913, 0.44386189, 0.38425152, 0.23464178, 0.28397266,\n",
       "        0.        ]),\n",
       " array([0.47298443, 0.44360048, 0.38403957, 0.23451705, 0.28381814,\n",
       "        0.        ]),\n",
       " array([0.47265859, 0.44330286, 0.38379385, 0.23436131, 0.28362909,\n",
       "        0.        ]),\n",
       " array([0.47232059, 0.44298449, 0.38351881, 0.23419307, 0.28342787,\n",
       "        0.        ]),\n",
       " array([0.47182637, 0.44252704, 0.38311132, 0.23393742, 0.28310676,\n",
       "        0.        ]),\n",
       " array([0.47151259, 0.44223086, 0.38285201, 0.23377695, 0.28290389,\n",
       "        0.        ]),\n",
       " array([0.47118251, 0.44192185, 0.38258419, 0.23361501, 0.28271268,\n",
       "        0.        ]),\n",
       " array([0.47071953, 0.44151113, 0.38223883, 0.23339995, 0.28245379,\n",
       "        0.        ]),\n",
       " array([0.47042887, 0.44125391, 0.38202117, 0.2332735 , 0.28229677,\n",
       "        0.        ]),\n",
       " array([0.46952579, 0.44038894, 0.3812325 , 0.23278771, 0.28170594,\n",
       "        0.        ]),\n",
       " array([0.4691792 , 0.4400617 , 0.38095823, 0.2326232 , 0.28150786,\n",
       "        0.        ]),\n",
       " array([0.46877151, 0.43968758, 0.38062224, 0.23243204, 0.28128342,\n",
       "        0.        ]),\n",
       " array([0.4683849 , 0.43935533, 0.38035931, 0.23227691, 0.28108824,\n",
       "        0.        ]),\n",
       " array([0.46797178, 0.43896296, 0.38000489, 0.23206846, 0.28083496,\n",
       "        0.        ]),\n",
       " array([0.46749787, 0.43852615, 0.37961784, 0.23182929, 0.28053436,\n",
       "        0.        ]),\n",
       " array([0.46713047, 0.43818498, 0.37932989, 0.23165607, 0.28031112,\n",
       "        0.        ]),\n",
       " array([0.46676635, 0.43782265, 0.37899985, 0.23145363, 0.28007582,\n",
       "        0.        ]),\n",
       " array([0.46634913, 0.43741994, 0.37864929, 0.23123293, 0.27981606,\n",
       "        0.        ]),\n",
       " array([0.46604672, 0.43711738, 0.37835987, 0.23106145, 0.27961308,\n",
       "        0.        ]),\n",
       " array([0.46535464, 0.43643403, 0.37774963, 0.23069788, 0.27919436,\n",
       "        0.        ]),\n",
       " array([0.46501891, 0.43610082, 0.37746279, 0.2305125 , 0.27897653,\n",
       "        0.        ]),\n",
       " array([0.46474728, 0.43584928, 0.37722716, 0.23038136, 0.27881267,\n",
       "        0.        ]),\n",
       " array([0.46438826, 0.4355273 , 0.37695207, 0.23021182, 0.27859866,\n",
       "        0.        ]),\n",
       " array([0.46411031, 0.43527331, 0.37671853, 0.23007896, 0.27843745,\n",
       "        0.        ]),\n",
       " array([0.46388234, 0.43503309, 0.37649466, 0.22994407, 0.27828396,\n",
       "        0.        ]),\n",
       " array([0.46349594, 0.43467278, 0.37617133, 0.22974257, 0.27803149,\n",
       "        0.        ]),\n",
       " array([0.46322245, 0.43444616, 0.37598541, 0.22963457, 0.27788591,\n",
       "        0.        ]),\n",
       " array([0.46298653, 0.43425211, 0.37583326, 0.229553  , 0.27778926,\n",
       "        0.        ]),\n",
       " array([0.46209573, 0.43341593, 0.37509507, 0.22910397, 0.27724451,\n",
       "        0.        ]),\n",
       " array([0.46171392, 0.43306153, 0.37479569, 0.22891188, 0.27701017,\n",
       "        0.        ]),\n",
       " array([0.46143006, 0.43281006, 0.37458304, 0.22878291, 0.27685146,\n",
       "        0.        ]),\n",
       " array([0.46111729, 0.43250382, 0.37430741, 0.22861195, 0.27665233,\n",
       "        0.        ]),\n",
       " array([0.4609424 , 0.43231654, 0.37413313, 0.2284952 , 0.27651082,\n",
       "        0.        ]),\n",
       " array([0.46063549, 0.43202353, 0.37385883, 0.22832901, 0.27631182,\n",
       "        0.        ]),\n",
       " array([0.46035022, 0.43172521, 0.37356197, 0.2281569 , 0.27611096,\n",
       "        0.        ]),\n",
       " array([0.46012411, 0.43148465, 0.37332986, 0.22801154, 0.27594203,\n",
       "        0.        ]),\n",
       " array([0.45987374, 0.43122935, 0.37308941, 0.22786013, 0.27576186,\n",
       "        0.        ]),\n",
       " array([0.45962068, 0.43099692, 0.37289248, 0.22773427, 0.27560945,\n",
       "        0.        ]),\n",
       " array([0.45892233, 0.4303659 , 0.37236811, 0.22741863, 0.27522899,\n",
       "        0.        ]),\n",
       " array([0.45865608, 0.43012221, 0.37214685, 0.22729148, 0.27507159,\n",
       "        0.        ]),\n",
       " array([0.4583693 , 0.42986647, 0.37193212, 0.22715752, 0.27489673,\n",
       "        0.        ]),\n",
       " array([0.45816975, 0.42966006, 0.3717374 , 0.22703967, 0.27475728,\n",
       "        0.        ]),\n",
       " array([0.45794348, 0.42943664, 0.37152224, 0.22691205, 0.27459767,\n",
       "        0.        ]),\n",
       " array([0.45764715, 0.4291678 , 0.37130194, 0.22677776, 0.274438  ,\n",
       "        0.        ]),\n",
       " array([0.45734392, 0.42888525, 0.37105502, 0.22662608, 0.27425655,\n",
       "        0.        ]),\n",
       " array([0.45708796, 0.42862791, 0.37081597, 0.22648214, 0.27408744,\n",
       "        0.        ]),\n",
       " array([0.45683289, 0.42837439, 0.37058738, 0.22634822, 0.27394149,\n",
       "        0.        ]),\n",
       " array([0.45660386, 0.42815683, 0.37039971, 0.22623507, 0.27380908,\n",
       "        0.        ]),\n",
       " array([0.45600583, 0.42755785, 0.36984557, 0.22590486, 0.27341848,\n",
       "        0.        ]),\n",
       " array([0.45574955, 0.42730446, 0.3696104 , 0.22576351, 0.2732494 ,\n",
       "        0.        ]),\n",
       " array([0.45550422, 0.42705617, 0.36937688, 0.22562258, 0.27308783,\n",
       "        0.        ]),\n",
       " array([0.45525692, 0.42683401, 0.36919004, 0.22551146, 0.27295626,\n",
       "        0.        ]),\n",
       " array([0.45499612, 0.42658871, 0.36897399, 0.22538228, 0.27279934,\n",
       "        0.        ]),\n",
       " array([0.45479665, 0.42638097, 0.36877555, 0.22525547, 0.27265012,\n",
       "        0.        ]),\n",
       " array([0.45444942, 0.42606947, 0.36852128, 0.22509417, 0.27245621,\n",
       "        0.        ]),\n",
       " array([0.45421513, 0.42584386, 0.36832212, 0.22497161, 0.27230744,\n",
       "        0.        ]),\n",
       " array([0.45402662, 0.42567518, 0.36818054, 0.22488754, 0.27220315,\n",
       "        0.        ]),\n",
       " array([0.45380923, 0.42545823, 0.36796553, 0.22475921, 0.27205074,\n",
       "        0.        ]),\n",
       " array([0.45332395, 0.425005  , 0.36756791, 0.22451701, 0.27177048,\n",
       "        0.        ]),\n",
       " array([0.4531737 , 0.42487508, 0.36745532, 0.2244545 , 0.2716926 ,\n",
       "        0.        ]),\n",
       " array([0.45305246, 0.42475519, 0.36736479, 0.22439046, 0.27161943,\n",
       "        0.        ]),\n",
       " array([0.45302851, 0.4247077 , 0.36729676, 0.22435533, 0.27158053,\n",
       "        0.        ]),\n",
       " array([0.4530099 , 0.42468472, 0.36726565, 0.22434195, 0.27157257,\n",
       "        0.        ]),\n",
       " array([0.45300247, 0.42467239, 0.36726508, 0.2243357 , 0.27157345,\n",
       "        0.        ]),\n",
       " array([0.45302352, 0.4246913 , 0.36729502, 0.2243525 , 0.27160074,\n",
       "        0.        ]),\n",
       " array([0.45306177, 0.42470859, 0.3672932 , 0.22435555, 0.27161116,\n",
       "        0.        ]),\n",
       " array([0.45314686, 0.42479096, 0.36738764, 0.22440573, 0.27167174,\n",
       "        0.        ]),\n",
       " array([0.45329362, 0.42492968, 0.36751428, 0.22448652, 0.2717733 ,\n",
       "        0.        ]),\n",
       " array([0.45371207, 0.42529672, 0.36782765, 0.22467343, 0.27201698,\n",
       "        0.        ]),\n",
       " array([0.45399051, 0.42554305, 0.36804177, 0.22480619, 0.27219492,\n",
       "        0.        ]),\n",
       " array([0.4542708 , 0.4257793 , 0.36823387, 0.22491883, 0.27233924,\n",
       "        0.        ]),\n",
       " array([0.45461655, 0.42609292, 0.36850168, 0.22508484, 0.27254759,\n",
       "        0.        ]),\n",
       " array([0.4549579 , 0.42641561, 0.36879815, 0.22526144, 0.27277124,\n",
       "        0.        ]),\n",
       " array([0.4553943 , 0.4268142 , 0.36916168, 0.2254799 , 0.27304158,\n",
       "        0.        ]),\n",
       " array([0.45581273, 0.42722182, 0.36952501, 0.22570551, 0.27331234,\n",
       "        0.        ]),\n",
       " array([0.4562638 , 0.42764235, 0.36990417, 0.22593287, 0.27359408,\n",
       "        0.        ]),\n",
       " array([0.45683805, 0.4282099 , 0.37043571, 0.22625368, 0.2739748 ,\n",
       "        0.        ]),\n",
       " array([0.45727232, 0.42862311, 0.37080563, 0.22647896, 0.27425326,\n",
       "        0.        ]),\n",
       " array([0.45864406, 0.42995145, 0.37200083, 0.22720595, 0.27512658,\n",
       "        0.        ]),\n",
       " array([0.45910631, 0.43040248, 0.37241266, 0.22745438, 0.27542196,\n",
       "        0.        ]),\n",
       " array([0.45963778, 0.43090032, 0.3728487 , 0.22771655, 0.27575307,\n",
       "        0.        ]),\n",
       " array([0.46021325, 0.43143834, 0.3733159 , 0.22800035, 0.27611134,\n",
       "        0.        ]),\n",
       " array([0.46082914, 0.43203648, 0.37385475, 0.22832657, 0.2765076 ,\n",
       "        0.        ]),\n",
       " array([0.46140455, 0.43261219, 0.37438292, 0.22864677, 0.27688603,\n",
       "        0.        ]),\n",
       " array([0.46199934, 0.43322298, 0.37496293, 0.22899809, 0.2773044 ,\n",
       "        0.        ]),\n",
       " array([0.46259497, 0.4337693 , 0.37544698, 0.22928486, 0.27766446,\n",
       "        0.        ]),\n",
       " array([0.46320324, 0.43435922, 0.3759661 , 0.22961213, 0.27805943,\n",
       "        0.        ]),\n",
       " array([0.46374735, 0.43486192, 0.37640077, 0.22987397, 0.27838406,\n",
       "        0.        ]),\n",
       " array([0.46484937, 0.43591487, 0.37736555, 0.23043962, 0.27905891,\n",
       "        0.        ]),\n",
       " array([0.46523473, 0.43627747, 0.37767549, 0.23063136, 0.27929285,\n",
       "        0.        ]),\n",
       " array([0.46554541, 0.43656018, 0.37790035, 0.23077496, 0.2794806 ,\n",
       "        0.        ]),\n",
       " array([0.46577784, 0.43678373, 0.37809422, 0.23089336, 0.2796183 ,\n",
       "        0.        ]),\n",
       " array([0.46601675, 0.4370069 , 0.37828754, 0.23100999, 0.27975961,\n",
       "        0.        ]),\n",
       " array([0.46615228, 0.43715047, 0.37841598, 0.23108355, 0.27983545,\n",
       "        0.        ]),\n",
       " array([0.46627717, 0.43727592, 0.37852422, 0.23114473, 0.27989887,\n",
       "        0.        ]),\n",
       " array([0.46634411, 0.43736223, 0.3786039 , 0.23119279, 0.27994884,\n",
       "        0.        ]),\n",
       " array([0.46637808, 0.43741365, 0.37866613, 0.23122708, 0.27998745,\n",
       "        0.        ]),\n",
       " array([0.46648506, 0.43750511, 0.37873319, 0.23126717, 0.28003116,\n",
       "        0.        ]),\n",
       " array([0.4667099 , 0.43772367, 0.37893107, 0.23138892, 0.28017869,\n",
       "        0.        ]),\n",
       " array([0.46678782, 0.43779699, 0.37899394, 0.23142718, 0.28022799,\n",
       "        0.        ]),\n",
       " array([0.46692315, 0.4379225 , 0.37909607, 0.23150088, 0.28032415,\n",
       "        0.        ]),\n",
       " array([0.4671052 , 0.43808577, 0.37922497, 0.23158899, 0.28043555,\n",
       "        0.        ]),\n",
       " array([0.46721577, 0.43818231, 0.37930366, 0.23163425, 0.28049197,\n",
       "        0.        ]),\n",
       " array([0.46739793, 0.43834778, 0.37944828, 0.23172145, 0.28060458,\n",
       "        0.        ]),\n",
       " array([0.46754422, 0.43846618, 0.37954963, 0.23177292, 0.28068182,\n",
       "        0.        ]),\n",
       " array([0.4677325 , 0.4386426 , 0.37970065, 0.23186148, 0.28078977,\n",
       "        0.        ]),\n",
       " array([0.46803382, 0.43892955, 0.37995366, 0.23201794, 0.28097687,\n",
       "        0.        ]),\n",
       " array([0.46828333, 0.43916003, 0.38014042, 0.23214167, 0.281127  ,\n",
       "        0.        ]),\n",
       " array([0.4689156 , 0.43978074, 0.3806867 , 0.23248005, 0.28152693,\n",
       "        0.        ]),\n",
       " array([0.4691579 , 0.44001472, 0.38087404, 0.23260028, 0.28166651,\n",
       "        0.        ]),\n",
       " array([0.4693791 , 0.44023753, 0.38107383, 0.23272947, 0.28181459,\n",
       "        0.        ]),\n",
       " array([0.46961003, 0.44047199, 0.38128892, 0.23285728, 0.28195118,\n",
       "        0.        ]),\n",
       " array([0.46976154, 0.44061361, 0.38142085, 0.23292768, 0.28203445,\n",
       "        0.        ]),\n",
       " array([0.46989234, 0.44073556, 0.3815382 , 0.23299244, 0.28211239,\n",
       "        0.        ]),\n",
       " array([0.46997804, 0.44083008, 0.38163282, 0.23305074, 0.28217966,\n",
       "        0.        ]),\n",
       " array([0.47001221, 0.44089177, 0.38170379, 0.23309547, 0.28221683,\n",
       "        0.        ]),\n",
       " array([0.47000826, 0.44089434, 0.38171658, 0.23310053, 0.28221811,\n",
       "        0.        ]),\n",
       " array([0.4699963 , 0.44088526, 0.38170717, 0.23309649, 0.2822135 ,\n",
       "        0.        ]),\n",
       " array([0.46980048, 0.44072382, 0.38157781, 0.23301727, 0.28211294,\n",
       "        0.        ]),\n",
       " array([0.46966297, 0.44059287, 0.38145387, 0.23293734, 0.28201044,\n",
       "        0.        ]),\n",
       " array([0.46956332, 0.44048575, 0.38135809, 0.23287616, 0.28194043,\n",
       "        0.        ]),\n",
       " array([0.46935747, 0.44028905, 0.38118463, 0.23277444, 0.28182535,\n",
       "        0.        ]),\n",
       " array([0.4691377 , 0.44008912, 0.38100314, 0.23266829, 0.28169297,\n",
       "        0.        ]),\n",
       " array([0.46888571, 0.43986583, 0.38081866, 0.2325533 , 0.2815453 ,\n",
       "        0.        ]),\n",
       " array([0.46863947, 0.43962222, 0.3806034 , 0.23242129, 0.28139239,\n",
       "        0.        ]),\n",
       " array([0.46833875, 0.43933578, 0.38035609, 0.23226477, 0.28121007,\n",
       "        0.        ]),\n",
       " array([0.46805609, 0.43907415, 0.38013319, 0.2321264 , 0.28103886,\n",
       "        0.        ]),\n",
       " array([0.46782196, 0.43885064, 0.37992979, 0.23200807, 0.28089684,\n",
       "        0.        ]),\n",
       " array([0.46725604, 0.43830082, 0.37945459, 0.23170438, 0.28052877,\n",
       "        0.        ]),\n",
       " array([0.46713765, 0.43817744, 0.37934961, 0.23164295, 0.28045967,\n",
       "        0.        ]),\n",
       " array([0.46694547, 0.43801681, 0.37923447, 0.23156835, 0.28036627,\n",
       "        0.        ]),\n",
       " array([0.46678708, 0.43786692, 0.37910096, 0.2314842 , 0.28026526,\n",
       "        0.        ]),\n",
       " array([0.4666545 , 0.43774537, 0.37898062, 0.23141415, 0.28018117,\n",
       "        0.        ]),\n",
       " array([0.46654901, 0.4376576 , 0.37890938, 0.23137318, 0.2801381 ,\n",
       "        0.        ]),\n",
       " array([0.46646852, 0.4376011 , 0.37887771, 0.23135845, 0.28012342,\n",
       "        0.        ]),\n",
       " array([0.46634343, 0.43748246, 0.3787821 , 0.23128675, 0.28004092,\n",
       "        0.        ]),\n",
       " array([0.46622316, 0.43738294, 0.37870749, 0.23123448, 0.27997993,\n",
       "        0.        ]),\n",
       " array([0.46612321, 0.4373022 , 0.37864862, 0.23120003, 0.27993701,\n",
       "        0.        ]),\n",
       " array([0.46568902, 0.43689871, 0.37829939, 0.23098738, 0.27967857,\n",
       "        0.        ]),\n",
       " array([0.46543048, 0.43666358, 0.37809777, 0.2308609 , 0.27951765,\n",
       "        0.        ]),\n",
       " array([0.46517097, 0.43643167, 0.3778925 , 0.23073915, 0.27936484,\n",
       "        0.        ]),\n",
       " array([0.46490899, 0.43619307, 0.37769778, 0.2306151 , 0.27920437,\n",
       "        0.        ]),\n",
       " array([0.46460153, 0.43590751, 0.37744977, 0.2304604 , 0.27901387,\n",
       "        0.        ]),\n",
       " array([0.46429991, 0.43561514, 0.37719695, 0.23030153, 0.2788298 ,\n",
       "        0.        ]),\n",
       " array([0.46400213, 0.43532837, 0.37693987, 0.23014438, 0.27863782,\n",
       "        0.        ]),\n",
       " array([0.4637722 , 0.43509734, 0.37673966, 0.23001677, 0.27849407,\n",
       "        0.        ]),\n",
       " array([0.46353966, 0.43485177, 0.37651039, 0.2298774 , 0.27834463,\n",
       "        0.        ]),\n",
       " array([0.46332219, 0.4346684 , 0.37637731, 0.2297838 , 0.27822012,\n",
       "        0.        ]),\n",
       " array([0.46303808, 0.43439915, 0.37615233, 0.2296487 , 0.27806442,\n",
       "        0.        ]),\n",
       " array([0.46299016, 0.43434779, 0.37610295, 0.22961404, 0.27802684,\n",
       "        0.        ]),\n",
       " array([0.46303159, 0.4343692 , 0.37611738, 0.22961924, 0.27804103,\n",
       "        0.        ]),\n",
       " array([0.46310722, 0.43443383, 0.37619006, 0.2296581 , 0.27809783,\n",
       "        0.        ]),\n",
       " array([0.46316939, 0.43448943, 0.3762494 , 0.22968843, 0.27814309,\n",
       "        0.        ]),\n",
       " array([0.46331355, 0.43460485, 0.37633822, 0.22974282, 0.27821655,\n",
       "        0.        ]),\n",
       " array([0.46341125, 0.43471643, 0.37645757, 0.22981232, 0.27829826,\n",
       "        0.        ]),\n",
       " array([0.46353568, 0.43481836, 0.37652578, 0.22985676, 0.27836044,\n",
       "        0.        ]),\n",
       " array([0.46366594, 0.43495738, 0.37666302, 0.22993488, 0.27845073,\n",
       "        0.        ]),\n",
       " array([0.46379621, 0.43508412, 0.37677165, 0.23000362, 0.27852913,\n",
       "        0.        ]),\n",
       " array([0.46414093, 0.43539915, 0.37702823, 0.23016202, 0.27872241,\n",
       "        0.        ]),\n",
       " array([0.46434765, 0.43558793, 0.37719045, 0.23025908, 0.27883866,\n",
       "        0.        ]),\n",
       " array([0.46458452, 0.43579925, 0.37737341, 0.23036537, 0.2789641 ,\n",
       "        0.        ]),\n",
       " array([0.46490918, 0.43606874, 0.37758815, 0.23049345, 0.279126  ,\n",
       "        0.        ]),\n",
       " array([0.46527663, 0.43641814, 0.37790025, 0.23068285, 0.27935233,\n",
       "        0.        ]),\n",
       " array([0.46571684, 0.43684036, 0.37827517, 0.23091763, 0.27964139,\n",
       "        0.        ]),\n",
       " array([0.46618627, 0.43728088, 0.37867375, 0.23115302, 0.2799306 ,\n",
       "        0.        ]),\n",
       " array([0.46667853, 0.43777071, 0.37911421, 0.2314232 , 0.28024863,\n",
       "        0.        ]),\n",
       " array([0.46721109, 0.43826601, 0.37954097, 0.2316828 , 0.28056259,\n",
       "        0.        ]),\n",
       " array([0.46772853, 0.43876253, 0.37998603, 0.23195125, 0.28088964,\n",
       "        0.        ]),\n",
       " array([0.46864273, 0.43964269, 0.38073937, 0.2324092 , 0.28142807,\n",
       "        0.        ]),\n",
       " array([0.46872837, 0.43976051, 0.38086828, 0.23248178, 0.28149681,\n",
       "        0.        ]),\n",
       " array([0.46862348, 0.43968997, 0.38081064, 0.23244592, 0.28142894,\n",
       "        0.        ]),\n",
       " array([0.468396  , 0.43947086, 0.38059734, 0.23231853, 0.28126803,\n",
       "        0.        ]),\n",
       " array([0.46800696, 0.43910207, 0.38025356, 0.23210494, 0.28099966,\n",
       "        0.        ]),\n",
       " array([0.46746054, 0.43861159, 0.37982211, 0.23184065, 0.28066209,\n",
       "        0.        ]),\n",
       " array([0.46692533, 0.43811257, 0.37938848, 0.23156539, 0.28031402,\n",
       "        0.        ]),\n",
       " array([0.46634081, 0.43752906, 0.37884737, 0.23123264, 0.27991759,\n",
       "        0.        ]),\n",
       " array([0.46572272, 0.43695211, 0.37832857, 0.230923  , 0.27953853,\n",
       "        0.        ]),\n",
       " array([0.46510406, 0.43633755, 0.37776612, 0.23057313, 0.27911965,\n",
       "        0.        ]),\n",
       " array([0.46381563, 0.43506472, 0.3765867 , 0.22987282, 0.27827828,\n",
       "        0.        ]),\n",
       " array([0.46334941, 0.43461149, 0.37618395, 0.22963193, 0.27799459,\n",
       "        0.        ]),\n",
       " array([0.46284532, 0.43410442, 0.37570987, 0.22934327, 0.27765378,\n",
       "        0.        ]),\n",
       " array([0.46245922, 0.43372441, 0.37536111, 0.22913458, 0.27740206,\n",
       "        0.        ]),\n",
       " array([0.46218644, 0.43342842, 0.37508451, 0.22896331, 0.2772131 ,\n",
       "        0.        ]),\n",
       " array([0.46195403, 0.43319145, 0.3748765 , 0.22883126, 0.27705952,\n",
       "        0.        ]),\n",
       " array([0.46188337, 0.43308585, 0.37477225, 0.2287647 , 0.27699486,\n",
       "        0.        ]),\n",
       " array([0.46193936, 0.43310834, 0.37477347, 0.22877498, 0.27702285,\n",
       "        0.        ]),\n",
       " array([0.46208153, 0.43322537, 0.37486418, 0.22883582, 0.27709947,\n",
       "        0.        ]),\n",
       " array([0.46228974, 0.43339493, 0.37499912, 0.22891683, 0.27720566,\n",
       "        0.        ]),\n",
       " array([0.46302828, 0.43406849, 0.37557497, 0.22927738, 0.27765161,\n",
       "        0.        ]),\n",
       " array([0.46342484, 0.43441785, 0.37586217, 0.22946196, 0.27788141,\n",
       "        0.        ]),\n",
       " array([0.46379367, 0.43474423, 0.37614281, 0.22962841, 0.27808955,\n",
       "        0.        ]),\n",
       " array([0.46422062, 0.43509994, 0.37641   , 0.22979845, 0.27830172,\n",
       "        0.        ]),\n",
       " array([0.4646045 , 0.43546089, 0.3767281 , 0.22998896, 0.27852052,\n",
       "        0.        ]),\n",
       " array([0.46497892, 0.43580676, 0.37702192, 0.23017677, 0.27875385,\n",
       "        0.        ]),\n",
       " array([0.46535208, 0.43614346, 0.37731534, 0.23035629, 0.27898081,\n",
       "        0.        ]),\n",
       " array([0.46572432, 0.43645103, 0.37755504, 0.23049929, 0.2791642 ,\n",
       "        0.        ]),\n",
       " array([0.46608037, 0.43676305, 0.37782027, 0.23066278, 0.27937687,\n",
       "        0.        ]),\n",
       " array([0.46649256, 0.43713342, 0.37813066, 0.23085104, 0.2796069 ,\n",
       "        0.        ]),\n",
       " array([0.46720289, 0.43776661, 0.37865535, 0.23116694, 0.2799946 ,\n",
       "        0.        ]),\n",
       " array([0.46748927, 0.43801766, 0.37884229, 0.2312922 , 0.28015292,\n",
       "        0.        ]),\n",
       " array([0.46776809, 0.438263  , 0.379043  , 0.23141445, 0.28030631,\n",
       "        0.        ]),\n",
       " array([0.46806196, 0.43854098, 0.37927586, 0.23156481, 0.28049148,\n",
       "        0.        ]),\n",
       " array([0.46839984, 0.43885751, 0.37953752, 0.23173339, 0.2806982 ,\n",
       "        0.        ]),\n",
       " array([0.4687075 , 0.43912827, 0.37975556, 0.23186806, 0.28086107,\n",
       "        0.        ]),\n",
       " array([0.46895458, 0.43936047, 0.37994849, 0.23199111, 0.28101062,\n",
       "        0.        ]),\n",
       " array([0.46927562, 0.43965293, 0.38020192, 0.23213911, 0.28118735,\n",
       "        0.        ]),\n",
       " array([0.46960268, 0.43993634, 0.38042039, 0.23227614, 0.28135316,\n",
       "        0.        ]),\n",
       " array([0.4698847 , 0.44017187, 0.38059757, 0.23238337, 0.28149754,\n",
       "        0.        ]),\n",
       " array([0.47057253, 0.44083679, 0.38116577, 0.23273295, 0.28190474,\n",
       "        0.        ]),\n",
       " array([0.47087678, 0.44111398, 0.38139954, 0.23288419, 0.28209232,\n",
       "        0.        ]),\n",
       " array([0.4711375 , 0.44137018, 0.38163226, 0.23302675, 0.28226171,\n",
       "        0.        ]),\n",
       " array([0.47145846, 0.44165301, 0.38185999, 0.2331678 , 0.28243704,\n",
       "        0.        ]),\n",
       " array([0.47175209, 0.44193374, 0.38209476, 0.2333244 , 0.28262618,\n",
       "        0.        ]),\n",
       " array([0.47210998, 0.44226771, 0.38237113, 0.23350306, 0.28283902,\n",
       "        0.        ]),\n",
       " array([0.47243868, 0.442589  , 0.38265935, 0.23367813, 0.28305016,\n",
       "        0.        ]),\n",
       " array([0.47287668, 0.44298576, 0.383003  , 0.23387931, 0.28329615,\n",
       "        0.        ]),\n",
       " array([0.47335526, 0.44341596, 0.38337459, 0.23410149, 0.28357974,\n",
       "        0.        ])]"
      ]
     },
     "execution_count": 70,
     "metadata": {},
     "output_type": "execute_result"
    }
   ],
   "source": [
    "dls_ed"
   ]
  },
  {
   "cell_type": "code",
   "execution_count": 76,
   "metadata": {},
   "outputs": [
    {
     "name": "stdout",
     "output_type": "stream",
     "text": [
      "IMG_0002_1.tif\tIMG_0002_5.tif\tIMG_0494_3.tif\tIMG_0495_1.tif\tIMG_0495_5.tif\r\n",
      "IMG_0002_2.tif\tIMG_0002_6.tif\tIMG_0494_4.tif\tIMG_0495_2.tif\tIMG_0495_6.tif\r\n",
      "IMG_0002_3.tif\tIMG_0494_1.tif\tIMG_0494_5.tif\tIMG_0495_3.tif\r\n",
      "IMG_0002_4.tif\tIMG_0494_2.tif\tIMG_0494_6.tif\tIMG_0495_4.tif\r\n"
     ]
    }
   ],
   "source": [
    "! ls data/20210317_duml_360_altitude_testing/altitude_test/panel"
   ]
  },
  {
   "cell_type": "code",
   "execution_count": 79,
   "metadata": {},
   "outputs": [],
   "source": [
    "dls_ed = np.array(dls_ed)"
   ]
  },
  {
   "cell_type": "code",
   "execution_count": 80,
   "metadata": {},
   "outputs": [
    {
     "data": {
      "text/plain": [
       "(338, 6)"
      ]
     },
     "execution_count": 80,
     "metadata": {},
     "output_type": "execute_result"
    }
   ],
   "source": [
    "dls_ed.shape"
   ]
  },
  {
   "cell_type": "code",
   "execution_count": 97,
   "metadata": {},
   "outputs": [
    {
     "data": {
      "text/plain": [
       "[<matplotlib.lines.Line2D at 0x7f60a70b6ad0>]"
      ]
     },
     "execution_count": 97,
     "metadata": {},
     "output_type": "execute_result"
    },
    {
     "data": {
      "image/png": "[encoded data removed]",
      "text/plain": [
       "<Figure size 432x288 with 1 Axes>"
      ]
     },
     "metadata": {
      "needs_background": "light"
     },
     "output_type": "display_data"
    }
   ],
   "source": [
    "plt.plot(dls_ed[100,:])"
   ]
  },
  {
   "cell_type": "code",
   "execution_count": 100,
   "metadata": {},
   "outputs": [
    {
     "data": {
      "text/plain": [
       "<matplotlib.collections.PathCollection at 0x7f6248dad5d0>"
      ]
     },
     "execution_count": 100,
     "metadata": {},
     "output_type": "execute_result"
    },
    {
     "data": {
      "image/png": "[encoded data removed]",
      "text/plain": [
       "<Figure size 432x288 with 1 Axes>"
      ]
     },
     "metadata": {
      "needs_background": "light"
     },
     "output_type": "display_data"
    }
   ],
   "source": [
    "plt.plot(dls_ed[:,0])\n",
    "plt.plot(dls_ed[:,1])\n",
    "plt.plot(dls_ed[:,2])\n",
    "plt.plot(dls_ed[:,3])\n",
    "plt.plot(dls_ed[:,4])\n",
    "plt.scatter([0,0,0,0,0],irr_from_panel)"
   ]
  },
  {
   "cell_type": "code",
   "execution_count": 85,
   "metadata": {},
   "outputs": [],
   "source": [
    "panel_cap = capture.Capture.from_filelist(glob.glob('data/20210317_duml_360_altitude_testing/altitude_test/panel/IMG_0002*'))"
   ]
  },
  {
   "cell_type": "code",
   "execution_count": 98,
   "metadata": {},
   "outputs": [],
   "source": [
    "panel_reflectance_by_band = [.539,.539,.538,.534,.537]#[0.493, 0.493, 0.492, 0.489, 0.491] #[0.67, 0.69, 0.68, 0.61, 0.67]\n",
    "\n",
    "panel_radiances = np.array(panel_cap.panel_radiance())\n",
    "irr_from_panel = math.pi * panel_radiances / panel_reflectance_by_band"
   ]
  },
  {
   "cell_type": "code",
   "execution_count": 99,
   "metadata": {},
   "outputs": [
    {
     "data": {
      "text/plain": [
       "array([0.32822018, 0.33827115, 0.27919627, 0.16799613, 0.21271497])"
      ]
     },
     "execution_count": 99,
     "metadata": {},
     "output_type": "execute_result"
    }
   ],
   "source": [
    "irr_from_panel"
   ]
  },
  {
   "cell_type": "code",
   "execution_count": null,
   "metadata": {},
   "outputs": [],
   "source": [
    "Rrs = Lt / Ed"
   ]
  }
 ],
 "metadata": {
  "kernelspec": {
   "display_name": "Python 3",
   "language": "python",
   "name": "python3"
  },
  "language_info": {
   "codemirror_mode": {
    "name": "ipython",
    "version": 3
   },
   "file_extension": ".py",
   "mimetype": "text/x-python",
   "name": "python",
   "nbconvert_exporter": "python",
   "pygments_lexer": "ipython3",
   "version": "3.7.8"
  }
 },
 "nbformat": 4,
 "nbformat_minor": 4
}
